{
 "cells": [
  {
   "cell_type": "markdown",
   "id": "7bb1f955-dc2c-4c0f-998d-e8d2b9fdfefe",
   "metadata": {},
   "source": [
    "# This is the notebook to validate information from the database system and the imaging datasets:\n",
    "    1. Validate and report the information difference from: \n",
    "        1) Data collection download table (\"<data collection>_<download date>.tsv\"); \n",
    "        2) Metadata from imgaing download (\"<data collection>_metadata.zip\", these are the *.xml metadata file, the results will be saved out there); \n",
    "        3) Study data (which table???);\n",
    "    2. Subject reports and filtering;\n",
    "    3. create participant.csv\n",
    "    4. Imaging session filtering.\n",
    "## Objectives\n",
    "    1. Validating session information;\n",
    "    2. Get all avalible information for exploration;\n",
    "## Other important information regarding PD\n",
    "    1. Movement asessments;\n",
    "    2. Cognitive assessments;\n",
    "    3. Smell_Identification_Test;"
   ]
  },
  {
   "cell_type": "code",
   "execution_count": 1,
   "id": "51d6310a-e525-438f-8250-47e66a6c4002",
   "metadata": {},
   "outputs": [],
   "source": [
    "from pathlib import Path\n",
    "import pandas as pd\n",
    "\n",
    "#PATH\n",
    "tmp_dir  = Path(\"/scratch/0tmp\") # For privacy, all the PPMI data are stored here locally.\n",
    "main_dir = Path(\"/scratch/mr_proc/metadata\") # The main GitRepo meta data dir\n",
    "\n",
    "dl_tab_file = main_dir / \"ppmi\" / \"PPMI_all_7_18_2022.csv\" # The info table accompanied the images download \n",
    "meta_dir = tmp_dir / \"PPMI\"                       # The unzipped meta data folder accompanied the images download \n",
    "metadata_file =  main_dir / \"ppmi\" / \"PPMI_all_7_18_2022_metadata.csv\"    # The extracted meta data from the above folder. \n",
    "livingpark_file =  main_dir / \"livingPark\" / \"MRI_info_v0.1.csv\" # The imaging downloading table from livingPark. \n",
    "\n",
    "#\n",
    "study_dir = tmp_dir / \"study_data\"           # The tabular files downloaded from the \"Study data\" cetegory. \n",
    "study_file = study_dir / \"Magnetic_Resonance_Imaging__MRI_.csv\" # The exact file with information of MRI images, No imaging ID specified"
   ]
  },
  {
   "cell_type": "code",
   "execution_count": 2,
   "id": "65fad090",
   "metadata": {},
   "outputs": [],
   "source": [
    "# Known T1 sequence descriptions,copied from heuristics.\n",
    "T1W_SERIES = [\n",
    "    'MPRAGE 2 ADNI',\n",
    "    'MPRAGE ADNI',\n",
    "    'MPRAGE GRAPPA 2',\n",
    "    'MPRAGE GRAPPA2',\n",
    "    'MPRAGE GRAPPA2(adni)',\n",
    "    'MPRAGE w/ GRAPPA',\n",
    "    'MPRAGE_GRAPPA',\n",
    "    'MPRAGE_GRAPPA_ADNI',\n",
    "    'MPRAGE GRAPPA',\n",
    "    'SAG T1 3D MPRAGE',\n",
    "    'sag mprage',\n",
    "    'MPRAGEadni',\n",
    "    'MPRAGE GRAPPA_ND',\n",
    "    '3D SAG',\n",
    "    'MPRAGE T1 SAG',\n",
    "    'MPRAGE SAG',\n",
    "    'SAG T1 3DMPRAGE',\n",
    "    'SAG T1 MPRAGE',\n",
    "    'SAG 3D T1',\n",
    "    'SAG MPRAGE GRAPPA2-NEW2016',\n",
    "    'SAG MPRAGE GRAPPA_ND',\n",
    "    'Sag MPRAGE GRAPPA',\n",
    "    'AXIAL T1 3D MPRAGE',\n",
    "    'SAG MPRAGE GRAPPA',\n",
    "    'sT1W_3D_FFE',\n",
    "    'sT1W_3D_ISO',\n",
    "    'sT1W_3D_TFE',\n",
    "    'sag 3D FSPGR BRAVO straight',\n",
    "    'SAG T1 3D FSPGR',\n",
    "    'SAG FSPGR 3D '\n",
    "    'SAG 3D FSPGR BRAVO STRAIGHT',\n",
    "    'SAG T1 3D FSPGR 3RD REPEAT',\n",
    "    'SAG FSPGR BRAVO',\n",
    "    'SAG SPGR 3D',\n",
    "    'SAG 3D SPGR',\n",
    "    'FSPGR 3D SAG',\n",
    "    'SAG FSPGR 3D',\n",
    "    'SAG 3D FSPGR BRAVO STRAIGHT',\n",
    "    'SAG FSPGR 3D ',\n",
    "    't1_mpr_ns_sag_p2_iso',\n",
    "    'T1',\n",
    "    'T1 Repeat',\n",
    "    'AX T1',\n",
    "    'axial spgr',\n",
    "    'T1W_3D_FFE AX',\n",
    "    # added by Vincent\n",
    "    'AX T1 SE C+',\n",
    "    '3D SAG T1 MPRAGE',\n",
    "    '3D SAG T1 MPRAGE_ND',\n",
    "    '3D T1',\n",
    "    '3D T1 MPRAGE',\n",
    "    '3D T1-weighted',\n",
    "    'Accelerated Sag IR-FSPGR',\n",
    "    'MPRAGE',\n",
    "    'MPRAGE - Sag',\n",
    "    'MPRAGE Phantom GRAPPA2',\n",
    "    'MPRAGE w/ GRAPPA 2',\n",
    "    'PPMI_MPRAGE_GRAPPA2',\n",
    "    'SAG 3D T1 FSPGR',\n",
    "    'SAG FSPGR 3D VOLUMETRIC T1',\n",
    "    'Sag MPRAGE GRAPPA_ND',\n",
    "    'T1-weighted, 3D VOLUMETRIC',\n",
    "    'tra_T1_MPRAGE',\n",
    "    '3D T1-weighted_ND', ## added from livingpark\n",
    "    '3D T1 _weighted',\n",
    "    'Sagittal 3D Accelerated MPRAGE',\n",
    "    'T1 REPEAT',\n",
    "    'MPRAGE Repeat',\n",
    "    'SAG_3D_MPRAGE'\n",
    "]"
   ]
  },
  {
   "cell_type": "markdown",
   "id": "d68039a0",
   "metadata": {},
   "source": [
    "## More info regarding column names in different tables:\n",
    "    1. download table:\n",
    "        Subject ID : \"Subject\"\n",
    "        Image ID   : \"Image Data ID\" (\"Ixxx\")\t\n",
    "    \n",
    "    2. metadata table:\n",
    "        subject ID : \"Subject\"\n",
    "        Image ID   : \"Image Data ID\" (\"xxx\")\n",
    " \n",
    "    3. study data table:\n",
    "        subject ID : \"PATNO\"\n",
    "        Image ID   : \"Nothing by now\""
   ]
  },
  {
   "cell_type": "code",
   "execution_count": 3,
   "id": "04ace2d8",
   "metadata": {},
   "outputs": [
    {
     "name": "stdout",
     "output_type": "stream",
     "text": [
      "(9591, 12)\n"
     ]
    },
    {
     "data": {
      "text/html": [
       "<div>\n",
       "<style scoped>\n",
       "    .dataframe tbody tr th:only-of-type {\n",
       "        vertical-align: middle;\n",
       "    }\n",
       "\n",
       "    .dataframe tbody tr th {\n",
       "        vertical-align: top;\n",
       "    }\n",
       "\n",
       "    .dataframe thead th {\n",
       "        text-align: right;\n",
       "    }\n",
       "</style>\n",
       "<table border=\"1\" class=\"dataframe\">\n",
       "  <thead>\n",
       "    <tr style=\"text-align: right;\">\n",
       "      <th></th>\n",
       "      <th>index</th>\n",
       "      <th>Image Data ID</th>\n",
       "      <th>Subject</th>\n",
       "      <th>Group</th>\n",
       "      <th>Sex</th>\n",
       "      <th>Age</th>\n",
       "      <th>Visit</th>\n",
       "      <th>Modality</th>\n",
       "      <th>Description</th>\n",
       "    </tr>\n",
       "  </thead>\n",
       "  <tbody>\n",
       "    <tr>\n",
       "      <th>0</th>\n",
       "      <td>7050</td>\n",
       "      <td>I224561</td>\n",
       "      <td>3000</td>\n",
       "      <td>Control</td>\n",
       "      <td>F</td>\n",
       "      <td>69</td>\n",
       "      <td>1</td>\n",
       "      <td>MRI</td>\n",
       "      <td>AX T2 FLAIR</td>\n",
       "    </tr>\n",
       "    <tr>\n",
       "      <th>1</th>\n",
       "      <td>7049</td>\n",
       "      <td>I224562</td>\n",
       "      <td>3000</td>\n",
       "      <td>Control</td>\n",
       "      <td>F</td>\n",
       "      <td>69</td>\n",
       "      <td>1</td>\n",
       "      <td>MRI</td>\n",
       "      <td>sag 3D FSPGR BRAVO straight</td>\n",
       "    </tr>\n",
       "    <tr>\n",
       "      <th>2</th>\n",
       "      <td>7048</td>\n",
       "      <td>I224572</td>\n",
       "      <td>3001</td>\n",
       "      <td>PD</td>\n",
       "      <td>M</td>\n",
       "      <td>65</td>\n",
       "      <td>1</td>\n",
       "      <td>MRI</td>\n",
       "      <td>AX T2 FLAIR 5/1</td>\n",
       "    </tr>\n",
       "  </tbody>\n",
       "</table>\n",
       "</div>"
      ],
      "text/plain": [
       "   index Image Data ID  Subject    Group Sex  Age  Visit Modality  \\\n",
       "0   7050       I224561     3000  Control   F   69      1      MRI   \n",
       "1   7049       I224562     3000  Control   F   69      1      MRI   \n",
       "2   7048       I224572     3001       PD   M   65      1      MRI   \n",
       "\n",
       "                   Description  \n",
       "0                  AX T2 FLAIR  \n",
       "1  sag 3D FSPGR BRAVO straight  \n",
       "2              AX T2 FLAIR 5/1  "
      ]
     },
     "metadata": {},
     "output_type": "display_data"
    },
    {
     "name": "stdout",
     "output_type": "stream",
     "text": [
      "(9591, 18)\n"
     ]
    },
    {
     "data": {
      "text/html": [
       "<div>\n",
       "<style scoped>\n",
       "    .dataframe tbody tr th:only-of-type {\n",
       "        vertical-align: middle;\n",
       "    }\n",
       "\n",
       "    .dataframe tbody tr th {\n",
       "        vertical-align: top;\n",
       "    }\n",
       "\n",
       "    .dataframe thead th {\n",
       "        text-align: right;\n",
       "    }\n",
       "</style>\n",
       "<table border=\"1\" class=\"dataframe\">\n",
       "  <thead>\n",
       "    <tr style=\"text-align: right;\">\n",
       "      <th></th>\n",
       "      <th>index</th>\n",
       "      <th>Image Data ID</th>\n",
       "      <th>Subject</th>\n",
       "      <th>Group</th>\n",
       "      <th>Sex</th>\n",
       "      <th>Age</th>\n",
       "      <th>Visit</th>\n",
       "      <th>Modality</th>\n",
       "      <th>Description</th>\n",
       "    </tr>\n",
       "  </thead>\n",
       "  <tbody>\n",
       "    <tr>\n",
       "      <th>0</th>\n",
       "      <td>2540</td>\n",
       "      <td>I224561</td>\n",
       "      <td>3000</td>\n",
       "      <td>Control</td>\n",
       "      <td>F</td>\n",
       "      <td>69.13</td>\n",
       "      <td>Baseline</td>\n",
       "      <td>MRI</td>\n",
       "      <td>AX T2 FLAIR</td>\n",
       "    </tr>\n",
       "    <tr>\n",
       "      <th>1</th>\n",
       "      <td>2541</td>\n",
       "      <td>I224562</td>\n",
       "      <td>3000</td>\n",
       "      <td>Control</td>\n",
       "      <td>F</td>\n",
       "      <td>69.13</td>\n",
       "      <td>Baseline</td>\n",
       "      <td>MRI</td>\n",
       "      <td>sag 3D FSPGR BRAVO straight</td>\n",
       "    </tr>\n",
       "    <tr>\n",
       "      <th>2</th>\n",
       "      <td>2543</td>\n",
       "      <td>I224572</td>\n",
       "      <td>3001</td>\n",
       "      <td>PD</td>\n",
       "      <td>M</td>\n",
       "      <td>65.14</td>\n",
       "      <td>Baseline</td>\n",
       "      <td>MRI</td>\n",
       "      <td>AX T2 FLAIR 5/1</td>\n",
       "    </tr>\n",
       "  </tbody>\n",
       "</table>\n",
       "</div>"
      ],
      "text/plain": [
       "   index Image Data ID  Subject    Group Sex    Age     Visit Modality  \\\n",
       "0   2540       I224561     3000  Control   F  69.13  Baseline      MRI   \n",
       "1   2541       I224562     3000  Control   F  69.13  Baseline      MRI   \n",
       "2   2543       I224572     3001       PD   M  65.14  Baseline      MRI   \n",
       "\n",
       "                   Description  \n",
       "0                  AX T2 FLAIR  \n",
       "1  sag 3D FSPGR BRAVO straight  \n",
       "2              AX T2 FLAIR 5/1  "
      ]
     },
     "metadata": {},
     "output_type": "display_data"
    },
    {
     "name": "stdout",
     "output_type": "stream",
     "text": [
      "Index(['Subject ID', 'Sex', 'Visit', 'Age', 'Description', 'Visit code'], dtype='object')\n",
      "No Image ID to match, thus not possible to validate the information from livingpark by now.\n",
      "(2725, 14)\n"
     ]
    },
    {
     "data": {
      "text/html": [
       "<div>\n",
       "<style scoped>\n",
       "    .dataframe tbody tr th:only-of-type {\n",
       "        vertical-align: middle;\n",
       "    }\n",
       "\n",
       "    .dataframe tbody tr th {\n",
       "        vertical-align: top;\n",
       "    }\n",
       "\n",
       "    .dataframe thead th {\n",
       "        text-align: right;\n",
       "    }\n",
       "</style>\n",
       "<table border=\"1\" class=\"dataframe\">\n",
       "  <thead>\n",
       "    <tr style=\"text-align: right;\">\n",
       "      <th></th>\n",
       "      <th>index</th>\n",
       "      <th>REC_ID</th>\n",
       "      <th>PATNO</th>\n",
       "      <th>EVENT_ID</th>\n",
       "      <th>PAG_NAME</th>\n",
       "      <th>INFODT</th>\n",
       "      <th>MRICMPLT</th>\n",
       "      <th>MRIWDTI</th>\n",
       "      <th>MRIWRSS</th>\n",
       "      <th>MRIRSLT</th>\n",
       "      <th>MRIRSSDF</th>\n",
       "      <th>PDMEDDT</th>\n",
       "      <th>PDMEDTM</th>\n",
       "      <th>ORIG_ENTRY</th>\n",
       "      <th>LAST_UPDATE</th>\n",
       "    </tr>\n",
       "  </thead>\n",
       "  <tbody>\n",
       "    <tr>\n",
       "      <th>0</th>\n",
       "      <td>0</td>\n",
       "      <td>272459801</td>\n",
       "      <td>3000</td>\n",
       "      <td>BL</td>\n",
       "      <td>MRI</td>\n",
       "      <td>02/2011</td>\n",
       "      <td>1.0</td>\n",
       "      <td>0.0</td>\n",
       "      <td>NaN</td>\n",
       "      <td>2.0</td>\n",
       "      <td>NaN</td>\n",
       "      <td>NaN</td>\n",
       "      <td>NaN</td>\n",
       "      <td>02/2011</td>\n",
       "      <td>2020-06-25 16:02:19.0</td>\n",
       "    </tr>\n",
       "    <tr>\n",
       "      <th>1</th>\n",
       "      <td>1</td>\n",
       "      <td>720691201</td>\n",
       "      <td>3000</td>\n",
       "      <td>V12</td>\n",
       "      <td>MRI</td>\n",
       "      <td>NaN</td>\n",
       "      <td>0.0</td>\n",
       "      <td>NaN</td>\n",
       "      <td>NaN</td>\n",
       "      <td>NaN</td>\n",
       "      <td>NaN</td>\n",
       "      <td>NaN</td>\n",
       "      <td>NaN</td>\n",
       "      <td>12/2018</td>\n",
       "      <td>2020-06-25 16:02:23.0</td>\n",
       "    </tr>\n",
       "    <tr>\n",
       "      <th>2</th>\n",
       "      <td>2</td>\n",
       "      <td>278750501</td>\n",
       "      <td>3001</td>\n",
       "      <td>BL</td>\n",
       "      <td>MRI</td>\n",
       "      <td>03/2011</td>\n",
       "      <td>1.0</td>\n",
       "      <td>0.0</td>\n",
       "      <td>NaN</td>\n",
       "      <td>2.0</td>\n",
       "      <td>NaN</td>\n",
       "      <td>NaN</td>\n",
       "      <td>NaN</td>\n",
       "      <td>03/2011</td>\n",
       "      <td>2020-06-25 16:04:30.0</td>\n",
       "    </tr>\n",
       "  </tbody>\n",
       "</table>\n",
       "</div>"
      ],
      "text/plain": [
       "   index     REC_ID  PATNO EVENT_ID PAG_NAME   INFODT  MRICMPLT  MRIWDTI  \\\n",
       "0      0  272459801   3000       BL      MRI  02/2011       1.0      0.0   \n",
       "1      1  720691201   3000      V12      MRI      NaN       0.0      NaN   \n",
       "2      2  278750501   3001       BL      MRI  03/2011       1.0      0.0   \n",
       "\n",
       "   MRIWRSS  MRIRSLT  MRIRSSDF PDMEDDT PDMEDTM ORIG_ENTRY  \\\n",
       "0      NaN      2.0       NaN     NaN     NaN    02/2011   \n",
       "1      NaN      NaN       NaN     NaN     NaN    12/2018   \n",
       "2      NaN      2.0       NaN     NaN     NaN    03/2011   \n",
       "\n",
       "             LAST_UPDATE  \n",
       "0  2020-06-25 16:02:19.0  \n",
       "1  2020-06-25 16:02:23.0  \n",
       "2  2020-06-25 16:04:30.0  "
      ]
     },
     "metadata": {},
     "output_type": "display_data"
    }
   ],
   "source": [
    "# Prerocessing of the downloading tab\n",
    "ppmi_col_sel = ['Image Data ID', 'Subject', 'Group', 'Sex', 'Age', 'Visit', 'Modality', 'Description']\n",
    "# Read table\n",
    "ppmi_dl_df  = pd.read_csv(dl_tab_file, sep=',')\n",
    "print(ppmi_dl_df.shape)\n",
    "ppmi_dl_df = ppmi_dl_df.loc[:, ppmi_col_sel]\n",
    "ppmi_dl_df=ppmi_dl_df.sort_values(by=\"Subject\").reset_index()\n",
    "\n",
    "display(ppmi_dl_df.loc[:2,:])\n",
    "\n",
    "# Prerocessing of the meta data info\n",
    "ppmi_metadata_df = pd.read_csv(metadata_file, sep=',')\n",
    "print(ppmi_metadata_df.shape)\n",
    "ppmi_metadata_df = ppmi_metadata_df.loc[:, ppmi_col_sel]\n",
    "ppmi_metadata_df.loc[:,'Image Data ID'] = ppmi_metadata_df.loc[:,'Image Data ID'].apply(lambda x: 'I'+str(x)) \n",
    "ppmi_metadata_df=ppmi_metadata_df.sort_values(by=\"Subject\").reset_index()\n",
    "display(ppmi_metadata_df.loc[:2,:])\n",
    "\n",
    "# Preprocessing of the livingpark imaging downloading tab\n",
    "livingpark_df = pd.read_csv(livingpark_file, sep=',')\n",
    "print(livingpark_df.columns)\n",
    "print(\"No Image ID to match, thus not possible to validate the information from livingpark by now.\")\n",
    "\n",
    "\n",
    "# Prerocessing of the study data info\n",
    "ppmi_study_df  = pd.read_csv(study_file, sep=',')\n",
    "print(ppmi_study_df.shape)\n",
    "display(ppmi_study_df.sort_values(by='PATNO').reset_index().loc[:2,:])"
   ]
  },
  {
   "cell_type": "code",
   "execution_count": 4,
   "id": "85c200be",
   "metadata": {},
   "outputs": [
    {
     "data": {
      "text/plain": [
       "<pandas.core.indexing._LocIndexer at 0x7f0459d3f540>"
      ]
     },
     "metadata": {},
     "output_type": "display_data"
    },
    {
     "name": "stdout",
     "output_type": "stream",
     "text": [
      "Different Subject\n"
     ]
    },
    {
     "data": {
      "text/html": [
       "<div>\n",
       "<style scoped>\n",
       "    .dataframe tbody tr th:only-of-type {\n",
       "        vertical-align: middle;\n",
       "    }\n",
       "\n",
       "    .dataframe tbody tr th {\n",
       "        vertical-align: top;\n",
       "    }\n",
       "\n",
       "    .dataframe thead th {\n",
       "        text-align: right;\n",
       "    }\n",
       "</style>\n",
       "<table border=\"1\" class=\"dataframe\">\n",
       "  <thead>\n",
       "    <tr style=\"text-align: right;\">\n",
       "      <th></th>\n",
       "      <th>index_meta</th>\n",
       "      <th>Subject_meta</th>\n",
       "      <th>Group_meta</th>\n",
       "      <th>Sex_meta</th>\n",
       "      <th>Age_meta</th>\n",
       "      <th>Visit_meta</th>\n",
       "      <th>Modality_meta</th>\n",
       "      <th>Description_meta</th>\n",
       "      <th>index_dl</th>\n",
       "      <th>Subject_dl</th>\n",
       "      <th>Group_dl</th>\n",
       "      <th>Sex_dl</th>\n",
       "      <th>Age_dl</th>\n",
       "      <th>Visit_dl</th>\n",
       "      <th>Modality_dl</th>\n",
       "      <th>Description_dl</th>\n",
       "    </tr>\n",
       "    <tr>\n",
       "      <th>Image Data ID</th>\n",
       "      <th></th>\n",
       "      <th></th>\n",
       "      <th></th>\n",
       "      <th></th>\n",
       "      <th></th>\n",
       "      <th></th>\n",
       "      <th></th>\n",
       "      <th></th>\n",
       "      <th></th>\n",
       "      <th></th>\n",
       "      <th></th>\n",
       "      <th></th>\n",
       "      <th></th>\n",
       "      <th></th>\n",
       "      <th></th>\n",
       "      <th></th>\n",
       "    </tr>\n",
       "  </thead>\n",
       "  <tbody>\n",
       "  </tbody>\n",
       "</table>\n",
       "</div>"
      ],
      "text/plain": [
       "Empty DataFrame\n",
       "Columns: [index_meta, Subject_meta, Group_meta, Sex_meta, Age_meta, Visit_meta, Modality_meta, Description_meta, index_dl, Subject_dl, Group_dl, Sex_dl, Age_dl, Visit_dl, Modality_dl, Description_dl]\n",
       "Index: []"
      ]
     },
     "metadata": {},
     "output_type": "display_data"
    },
    {
     "name": "stdout",
     "output_type": "stream",
     "text": [
      "Different Group\n"
     ]
    },
    {
     "data": {
      "text/html": [
       "<div>\n",
       "<style scoped>\n",
       "    .dataframe tbody tr th:only-of-type {\n",
       "        vertical-align: middle;\n",
       "    }\n",
       "\n",
       "    .dataframe tbody tr th {\n",
       "        vertical-align: top;\n",
       "    }\n",
       "\n",
       "    .dataframe thead th {\n",
       "        text-align: right;\n",
       "    }\n",
       "</style>\n",
       "<table border=\"1\" class=\"dataframe\">\n",
       "  <thead>\n",
       "    <tr style=\"text-align: right;\">\n",
       "      <th></th>\n",
       "      <th>index_meta</th>\n",
       "      <th>Subject_meta</th>\n",
       "      <th>Group_meta</th>\n",
       "      <th>Sex_meta</th>\n",
       "      <th>Age_meta</th>\n",
       "      <th>Visit_meta</th>\n",
       "      <th>Modality_meta</th>\n",
       "      <th>Description_meta</th>\n",
       "      <th>index_dl</th>\n",
       "      <th>Subject_dl</th>\n",
       "      <th>Group_dl</th>\n",
       "      <th>Sex_dl</th>\n",
       "      <th>Age_dl</th>\n",
       "      <th>Visit_dl</th>\n",
       "      <th>Modality_dl</th>\n",
       "      <th>Description_dl</th>\n",
       "    </tr>\n",
       "    <tr>\n",
       "      <th>Image Data ID</th>\n",
       "      <th></th>\n",
       "      <th></th>\n",
       "      <th></th>\n",
       "      <th></th>\n",
       "      <th></th>\n",
       "      <th></th>\n",
       "      <th></th>\n",
       "      <th></th>\n",
       "      <th></th>\n",
       "      <th></th>\n",
       "      <th></th>\n",
       "      <th></th>\n",
       "      <th></th>\n",
       "      <th></th>\n",
       "      <th></th>\n",
       "      <th></th>\n",
       "    </tr>\n",
       "  </thead>\n",
       "  <tbody>\n",
       "  </tbody>\n",
       "</table>\n",
       "</div>"
      ],
      "text/plain": [
       "Empty DataFrame\n",
       "Columns: [index_meta, Subject_meta, Group_meta, Sex_meta, Age_meta, Visit_meta, Modality_meta, Description_meta, index_dl, Subject_dl, Group_dl, Sex_dl, Age_dl, Visit_dl, Modality_dl, Description_dl]\n",
       "Index: []"
      ]
     },
     "metadata": {},
     "output_type": "display_data"
    },
    {
     "name": "stdout",
     "output_type": "stream",
     "text": [
      "Different Sex\n"
     ]
    },
    {
     "data": {
      "text/html": [
       "<div>\n",
       "<style scoped>\n",
       "    .dataframe tbody tr th:only-of-type {\n",
       "        vertical-align: middle;\n",
       "    }\n",
       "\n",
       "    .dataframe tbody tr th {\n",
       "        vertical-align: top;\n",
       "    }\n",
       "\n",
       "    .dataframe thead th {\n",
       "        text-align: right;\n",
       "    }\n",
       "</style>\n",
       "<table border=\"1\" class=\"dataframe\">\n",
       "  <thead>\n",
       "    <tr style=\"text-align: right;\">\n",
       "      <th></th>\n",
       "      <th>index_meta</th>\n",
       "      <th>Subject_meta</th>\n",
       "      <th>Group_meta</th>\n",
       "      <th>Sex_meta</th>\n",
       "      <th>Age_meta</th>\n",
       "      <th>Visit_meta</th>\n",
       "      <th>Modality_meta</th>\n",
       "      <th>Description_meta</th>\n",
       "      <th>index_dl</th>\n",
       "      <th>Subject_dl</th>\n",
       "      <th>Group_dl</th>\n",
       "      <th>Sex_dl</th>\n",
       "      <th>Age_dl</th>\n",
       "      <th>Visit_dl</th>\n",
       "      <th>Modality_dl</th>\n",
       "      <th>Description_dl</th>\n",
       "    </tr>\n",
       "    <tr>\n",
       "      <th>Image Data ID</th>\n",
       "      <th></th>\n",
       "      <th></th>\n",
       "      <th></th>\n",
       "      <th></th>\n",
       "      <th></th>\n",
       "      <th></th>\n",
       "      <th></th>\n",
       "      <th></th>\n",
       "      <th></th>\n",
       "      <th></th>\n",
       "      <th></th>\n",
       "      <th></th>\n",
       "      <th></th>\n",
       "      <th></th>\n",
       "      <th></th>\n",
       "      <th></th>\n",
       "    </tr>\n",
       "  </thead>\n",
       "  <tbody>\n",
       "  </tbody>\n",
       "</table>\n",
       "</div>"
      ],
      "text/plain": [
       "Empty DataFrame\n",
       "Columns: [index_meta, Subject_meta, Group_meta, Sex_meta, Age_meta, Visit_meta, Modality_meta, Description_meta, index_dl, Subject_dl, Group_dl, Sex_dl, Age_dl, Visit_dl, Modality_dl, Description_dl]\n",
       "Index: []"
      ]
     },
     "metadata": {},
     "output_type": "display_data"
    },
    {
     "name": "stdout",
     "output_type": "stream",
     "text": [
      "Different Modality\n"
     ]
    },
    {
     "data": {
      "text/html": [
       "<div>\n",
       "<style scoped>\n",
       "    .dataframe tbody tr th:only-of-type {\n",
       "        vertical-align: middle;\n",
       "    }\n",
       "\n",
       "    .dataframe tbody tr th {\n",
       "        vertical-align: top;\n",
       "    }\n",
       "\n",
       "    .dataframe thead th {\n",
       "        text-align: right;\n",
       "    }\n",
       "</style>\n",
       "<table border=\"1\" class=\"dataframe\">\n",
       "  <thead>\n",
       "    <tr style=\"text-align: right;\">\n",
       "      <th></th>\n",
       "      <th>index_meta</th>\n",
       "      <th>Subject_meta</th>\n",
       "      <th>Group_meta</th>\n",
       "      <th>Sex_meta</th>\n",
       "      <th>Age_meta</th>\n",
       "      <th>Visit_meta</th>\n",
       "      <th>Modality_meta</th>\n",
       "      <th>Description_meta</th>\n",
       "      <th>index_dl</th>\n",
       "      <th>Subject_dl</th>\n",
       "      <th>Group_dl</th>\n",
       "      <th>Sex_dl</th>\n",
       "      <th>Age_dl</th>\n",
       "      <th>Visit_dl</th>\n",
       "      <th>Modality_dl</th>\n",
       "      <th>Description_dl</th>\n",
       "    </tr>\n",
       "    <tr>\n",
       "      <th>Image Data ID</th>\n",
       "      <th></th>\n",
       "      <th></th>\n",
       "      <th></th>\n",
       "      <th></th>\n",
       "      <th></th>\n",
       "      <th></th>\n",
       "      <th></th>\n",
       "      <th></th>\n",
       "      <th></th>\n",
       "      <th></th>\n",
       "      <th></th>\n",
       "      <th></th>\n",
       "      <th></th>\n",
       "      <th></th>\n",
       "      <th></th>\n",
       "      <th></th>\n",
       "    </tr>\n",
       "  </thead>\n",
       "  <tbody>\n",
       "  </tbody>\n",
       "</table>\n",
       "</div>"
      ],
      "text/plain": [
       "Empty DataFrame\n",
       "Columns: [index_meta, Subject_meta, Group_meta, Sex_meta, Age_meta, Visit_meta, Modality_meta, Description_meta, index_dl, Subject_dl, Group_dl, Sex_dl, Age_dl, Visit_dl, Modality_dl, Description_dl]\n",
       "Index: []"
      ]
     },
     "metadata": {},
     "output_type": "display_data"
    },
    {
     "name": "stdout",
     "output_type": "stream",
     "text": [
      "Different Description\n"
     ]
    },
    {
     "data": {
      "text/html": [
       "<div>\n",
       "<style scoped>\n",
       "    .dataframe tbody tr th:only-of-type {\n",
       "        vertical-align: middle;\n",
       "    }\n",
       "\n",
       "    .dataframe tbody tr th {\n",
       "        vertical-align: top;\n",
       "    }\n",
       "\n",
       "    .dataframe thead th {\n",
       "        text-align: right;\n",
       "    }\n",
       "</style>\n",
       "<table border=\"1\" class=\"dataframe\">\n",
       "  <thead>\n",
       "    <tr style=\"text-align: right;\">\n",
       "      <th></th>\n",
       "      <th>index_meta</th>\n",
       "      <th>Subject_meta</th>\n",
       "      <th>Group_meta</th>\n",
       "      <th>Sex_meta</th>\n",
       "      <th>Age_meta</th>\n",
       "      <th>Visit_meta</th>\n",
       "      <th>Modality_meta</th>\n",
       "      <th>Description_meta</th>\n",
       "      <th>index_dl</th>\n",
       "      <th>Subject_dl</th>\n",
       "      <th>Group_dl</th>\n",
       "      <th>Sex_dl</th>\n",
       "      <th>Age_dl</th>\n",
       "      <th>Visit_dl</th>\n",
       "      <th>Modality_dl</th>\n",
       "      <th>Description_dl</th>\n",
       "    </tr>\n",
       "    <tr>\n",
       "      <th>Image Data ID</th>\n",
       "      <th></th>\n",
       "      <th></th>\n",
       "      <th></th>\n",
       "      <th></th>\n",
       "      <th></th>\n",
       "      <th></th>\n",
       "      <th></th>\n",
       "      <th></th>\n",
       "      <th></th>\n",
       "      <th></th>\n",
       "      <th></th>\n",
       "      <th></th>\n",
       "      <th></th>\n",
       "      <th></th>\n",
       "      <th></th>\n",
       "      <th></th>\n",
       "    </tr>\n",
       "  </thead>\n",
       "  <tbody>\n",
       "  </tbody>\n",
       "</table>\n",
       "</div>"
      ],
      "text/plain": [
       "Empty DataFrame\n",
       "Columns: [index_meta, Subject_meta, Group_meta, Sex_meta, Age_meta, Visit_meta, Modality_meta, Description_meta, index_dl, Subject_dl, Group_dl, Sex_dl, Age_dl, Visit_dl, Modality_dl, Description_dl]\n",
       "Index: []"
      ]
     },
     "metadata": {},
     "output_type": "display_data"
    }
   ],
   "source": [
    "combined_df=ppmi_metadata_df.set_index('Image Data ID').join(ppmi_dl_df.set_index('Image Data ID'), on=[\"Image Data ID\"], how=\"left\", lsuffix='_meta', rsuffix='_dl')\n",
    "#combined_df.loc[:,'comm_subj']=str(combined_df.loc[:,'Subject_meta'])+'-'+str(combined_df.loc[:,'Subject_dl'])\n",
    "display(combined_df.loc)\n",
    "for x in ['Subject', 'Group', 'Sex', 'Modality', 'Description']:\n",
    "    print(\"Different \"+x)\n",
    "    display(combined_df[combined_df[x+'_meta']!=combined_df[x+'_dl']])\n"
   ]
  },
  {
   "cell_type": "code",
   "execution_count": 5,
   "id": "ff3dcb3b",
   "metadata": {},
   "outputs": [
    {
     "name": "stdout",
     "output_type": "stream",
     "text": [
      "All visits codings: \n"
     ]
    },
    {
     "data": {
      "text/plain": [
       "{'Baseline->1',\n",
       " 'Month 12->5',\n",
       " 'Month 24->7',\n",
       " 'Month 36->9',\n",
       " 'Month 48->11',\n",
       " 'Premature Withdrawal->30',\n",
       " 'Screening->0',\n",
       " 'Symptomatic Therapy->21',\n",
       " 'Unscheduled Visit 01->90',\n",
       " 'Unscheduled Visit 02->91'}"
      ]
     },
     "execution_count": 5,
     "metadata": {},
     "output_type": "execute_result"
    }
   ],
   "source": [
    "# All encodings in the imaging files\n",
    "list_combine=[]\n",
    "for a, b in zip(list(combined_df.loc[:,'Visit_meta']), list(combined_df.loc[:,'Visit_dl'])):\n",
    "    list_combine.append(str(a)+'->'+ str(b))\n",
    "print(\"All visits codings: \")\n",
    "set(list_combine)"
   ]
  },
  {
   "cell_type": "markdown",
   "id": "e257620d",
   "metadata": {},
   "source": []
  },
  {
   "cell_type": "markdown",
   "id": "fe0f09ed",
   "metadata": {},
   "source": [
    "## 1. Subject MRI imaging"
   ]
  },
  {
   "cell_type": "code",
   "execution_count": 2,
   "id": "3fe52bef-097b-4132-a9f7-5f2f001cbf2a",
   "metadata": {},
   "outputs": [],
   "source": [
    "# create the participants.csv from the data downloading tabel\n",
    "ppmi_participant_csv_file  = data_dir / 'participants.csv'  # Inormation from download database.\n",
    "participant_cols=['participant_id', 'age', 'sex', 'group']\n",
    "participant_df=pd.DataFrame()\n",
    "participant_df[participant_cols] = ppmi_dl_data[['Subject','Age','Sex', 'Group']]\n",
    "participant_df=participant_df.drop_duplicates(subset='participant_id', keep='first')\n",
    "participant_df.to_csv(ppmi_participant_csv_file, index=False)"
   ]
  },
  {
   "cell_type": "markdown",
   "id": "59110941",
   "metadata": {},
   "source": [
    "## 2. subject demographics\n"
   ]
  },
  {
   "cell_type": "code",
   "execution_count": null,
   "id": "bdb050ae",
   "metadata": {},
   "outputs": [],
   "source": []
  },
  {
   "cell_type": "markdown",
   "id": "c05da781",
   "metadata": {},
   "source": [
    "## 3. Subject movement assessments"
   ]
  },
  {
   "cell_type": "code",
   "execution_count": null,
   "id": "967b9885",
   "metadata": {},
   "outputs": [],
   "source": []
  },
  {
   "cell_type": "markdown",
   "id": "3599b035",
   "metadata": {},
   "source": [
    "## 4. Subject cognitive assessments"
   ]
  },
  {
   "cell_type": "code",
   "execution_count": null,
   "id": "9115cab9",
   "metadata": {},
   "outputs": [],
   "source": []
  },
  {
   "cell_type": "code",
   "execution_count": 3,
   "id": "4bdc7893-45d4-4dab-97d5-950693073010",
   "metadata": {},
   "outputs": [
    {
     "name": "stdout",
     "output_type": "stream",
     "text": [
      "Index(['Image Data ID', 'Subject', 'Group', 'Sex', 'Age', 'Visit', 'Modality',\n",
      "       'Description'],\n",
      "      dtype='object')\n",
      "Total Subject of PPMI is : \n"
     ]
    },
    {
     "data": {
      "text/plain": [
       "585"
      ]
     },
     "metadata": {},
     "output_type": "display_data"
    },
    {
     "name": "stdout",
     "output_type": "stream",
     "text": [
      "Total Modality of PPMI is : \n"
     ]
    },
    {
     "data": {
      "text/plain": [
       "2"
      ]
     },
     "metadata": {},
     "output_type": "display_data"
    },
    {
     "data": {
      "text/plain": [
       "array(['MRI', 'DTI'], dtype=object)"
      ]
     },
     "metadata": {},
     "output_type": "display_data"
    },
    {
     "name": "stdout",
     "output_type": "stream",
     "text": [
      "Total Sex of PPMI is : \n"
     ]
    },
    {
     "data": {
      "text/plain": [
       "3"
      ]
     },
     "metadata": {},
     "output_type": "display_data"
    },
    {
     "data": {
      "text/plain": [
       "array(['M', 'F', 'X'], dtype=object)"
      ]
     },
     "metadata": {},
     "output_type": "display_data"
    },
    {
     "name": "stdout",
     "output_type": "stream",
     "text": [
      "Total Age of PPMI is : \n"
     ]
    },
    {
     "data": {
      "text/plain": [
       "52"
      ]
     },
     "metadata": {},
     "output_type": "display_data"
    },
    {
     "name": "stdout",
     "output_type": "stream",
     "text": [
      "Total Visit of PPMI is : \n"
     ]
    },
    {
     "data": {
      "text/plain": [
       "10"
      ]
     },
     "metadata": {},
     "output_type": "display_data"
    },
    {
     "data": {
      "text/plain": [
       "array([ 7,  1,  5, 11, 90, 30,  9,  0, 21, 91])"
      ]
     },
     "metadata": {},
     "output_type": "display_data"
    }
   ],
   "source": [
    "print(ppmi_dl_data.columns)\n",
    "ppmi_col_list=['Image Data ID', 'Subject', 'Group', 'Sex', 'Age', 'Visit', 'Modality', 'Description', 'Type', 'Acq Date', 'Format', 'Downloaded']\n",
    "\n",
    "ppmi_dl_columns_list  = ['Subject','Image Data ID','Modality','Sex','Age', 'Visit','Description']\n",
    "ppmi_dcm_columns_list = ['patient_id','dcm_dir_name','date','series_id', 'sequence_name','series_description', 'protocol_name','dim1','dim2','dim3','dim4']\n",
    "\n",
    "def report_sum(df, _list, dataset_name):\n",
    "    for x in _list:\n",
    "        print(\"Total \"+x+' of '+ dataset_name+\" is : \")\n",
    "        _len = len(df.loc[:,x].unique());\n",
    "        display(_len)\n",
    "        if _len <= 10:\n",
    "            display(df.loc[:,x].unique())\n",
    "\n",
    "# check download meta data and dcm information\n",
    "report_list = ['Subject', 'Modality','Sex','Age', 'Visit',];\n",
    "report_sum(ppmi_dl_data, report_list, 'PPMI')"
   ]
  },
  {
   "cell_type": "code",
   "execution_count": 4,
   "id": "f958bce8-f57d-4aea-9618-cd09e69a8c08",
   "metadata": {},
   "outputs": [
    {
     "name": "stdout",
     "output_type": "stream",
     "text": [
      "Visit counts: 2    46\n",
      "1    23\n",
      "3    19\n",
      "4     3\n",
      "Name: Visit, dtype: int64\n",
      "{Control}    91\n",
      "Name: Group, dtype: int64\n"
     ]
    },
    {
     "data": {
      "image/png": "[encoded data removed]",
      "text/plain": [
       "<Figure size 432x288 with 1 Axes>"
      ]
     },
     "metadata": {
      "needs_background": "light"
     },
     "output_type": "display_data"
    }
   ],
   "source": [
    "#data selection\n",
    "tmp_data = ppmi_dl_data[ppmi_dl_data['Group']=='Control'].copy()\n",
    "\n",
    "grouped=tmp_data.groupby(by='Subject').agg(lambda x: len(set(x)))\n",
    "grouped.hist(column=['Visit'])\n",
    "print('Visit counts:', grouped.Visit.value_counts())\n",
    "print(tmp_data.groupby(by='Subject').agg(lambda x: set(x)).Group.value_counts())"
   ]
  },
  {
   "cell_type": "code",
   "execution_count": 5,
   "id": "5b785720-26e4-4d37-9578-4e6d808788d1",
   "metadata": {},
   "outputs": [
    {
     "name": "stdout",
     "output_type": "stream",
     "text": [
      "Visit counts: 1    253\n",
      "2    119\n",
      "4    109\n",
      "3    103\n",
      "5      1\n",
      "Name: Visit, dtype: int64\n",
      "{PD}              304\n",
      "{Prodromal}       145\n",
      "{Control}          91\n",
      "{SWEDD}            42\n",
      "{Phantom}           2\n",
      "{GenReg Unaff}      1\n",
      "Name: Group, dtype: int64\n"
     ]
    },
    {
     "data": {
      "image/png": "[encoded data removed]",
      "text/plain": [
       "<Figure size 432x288 with 1 Axes>"
      ]
     },
     "metadata": {
      "needs_background": "light"
     },
     "output_type": "display_data"
    }
   ],
   "source": [
    "grouped=ppmi_dl_data.groupby(by='Subject').agg(lambda x: len(set(x)))\n",
    "grouped.hist(column=['Visit'])\n",
    "print('Visit counts:', grouped.Visit.value_counts())\n",
    "print(ppmi_dl_data.groupby(by='Subject').agg(lambda x: set(x)).Group.value_counts())"
   ]
  },
  {
   "cell_type": "code",
   "execution_count": 6,
   "id": "fefe4c8c-eba2-4a43-96a9-ab93f3fec265",
   "metadata": {},
   "outputs": [
    {
     "data": {
      "text/html": [
       "<div>\n",
       "<style scoped>\n",
       "    .dataframe tbody tr th:only-of-type {\n",
       "        vertical-align: middle;\n",
       "    }\n",
       "\n",
       "    .dataframe tbody tr th {\n",
       "        vertical-align: top;\n",
       "    }\n",
       "\n",
       "    .dataframe thead th {\n",
       "        text-align: right;\n",
       "    }\n",
       "</style>\n",
       "<table border=\"1\" class=\"dataframe\">\n",
       "  <thead>\n",
       "    <tr style=\"text-align: right;\">\n",
       "      <th></th>\n",
       "      <th>Image Data ID</th>\n",
       "      <th>Group</th>\n",
       "      <th>Sex</th>\n",
       "      <th>Age</th>\n",
       "      <th>Visit</th>\n",
       "      <th>Modality</th>\n",
       "      <th>Description</th>\n",
       "    </tr>\n",
       "    <tr>\n",
       "      <th>Subject</th>\n",
       "      <th></th>\n",
       "      <th></th>\n",
       "      <th></th>\n",
       "      <th></th>\n",
       "      <th></th>\n",
       "      <th></th>\n",
       "      <th></th>\n",
       "    </tr>\n",
       "  </thead>\n",
       "  <tbody>\n",
       "    <tr>\n",
       "      <th>01218AUG16</th>\n",
       "      <td>[I787959, I787960]</td>\n",
       "      <td>[Phantom, Phantom]</td>\n",
       "      <td>[X, X]</td>\n",
       "      <td>[56, 56]</td>\n",
       "      <td>[0, 0]</td>\n",
       "      <td>[MRI, DTI]</td>\n",
       "      <td>[MPRAGE Phantom GRAPPA2, DTI]</td>\n",
       "    </tr>\n",
       "    <tr>\n",
       "      <th>08827APR11</th>\n",
       "      <td>[I253669, I253662, I253664, I253666, I253668, ...</td>\n",
       "      <td>[Phantom, Phantom, Phantom, Phantom, Phantom, ...</td>\n",
       "      <td>[M, M, M, M, M, M, M, M]</td>\n",
       "      <td>[39, 39, 39, 39, 39, 39, 39, 39]</td>\n",
       "      <td>[1, 1, 1, 1, 1, 1, 1, 1]</td>\n",
       "      <td>[MRI, MRI, MRI, DTI, DTI, DTI, DTI, DTI]</td>\n",
       "      <td>[localizer, localizer, localizer, DTI_FA, DTI_...</td>\n",
       "    </tr>\n",
       "    <tr>\n",
       "      <th>100005</th>\n",
       "      <td>[I1526367, I1526369, I1526362, I1526371, I1526...</td>\n",
       "      <td>[PD, PD, PD, PD, PD, PD, PD, PD, PD, PD, PD, PD]</td>\n",
       "      <td>[M, M, M, M, M, M, M, M, M, M, M, M]</td>\n",
       "      <td>[53, 53, 53, 53, 53, 53, 53, 53, 53, 53, 53, 53]</td>\n",
       "      <td>[1, 1, 1, 1, 1, 1, 1, 1, 1, 1, 1, 1]</td>\n",
       "      <td>[DTI, DTI, MRI, DTI, MRI, MRI, DTI, MRI, DTI, ...</td>\n",
       "      <td>[DTI_FA, DTI, 2D GRE-MT, DTI_30dir R-L, 2D GRE...</td>\n",
       "    </tr>\n",
       "    <tr>\n",
       "      <th>100006</th>\n",
       "      <td>[I1526387, I1526380, I1526382, I1526384, I1526...</td>\n",
       "      <td>[PD, PD, PD, PD, PD, PD, PD, PD, PD, PD, PD, P...</td>\n",
       "      <td>[F, F, F, F, F, F, F, F, F, F, F, F, F, F, F, F]</td>\n",
       "      <td>[56, 56, 56, 56, 56, 57, 56, 57, 56, 56, 56, 5...</td>\n",
       "      <td>[1, 1, 1, 1, 1, 5, 1, 5, 1, 1, 1, 1, 5, 1, 5, 1]</td>\n",
       "      <td>[DTI, MRI, MRI, DTI, MRI, MRI, DTI, DTI, MRI, ...</td>\n",
       "      <td>[DTI_30dir R-L, 2D GRE-MT, 2D GRE-MT, DTI_ADC,...</td>\n",
       "    </tr>\n",
       "    <tr>\n",
       "      <th>100007</th>\n",
       "      <td>[I1525728, I1525730, I1537555, I1525732, I1525...</td>\n",
       "      <td>[PD, PD, PD, PD, PD, PD, PD, PD, PD]</td>\n",
       "      <td>[M, M, M, M, M, M, M, M, M]</td>\n",
       "      <td>[67, 67, 68, 67, 67, 67, 67, 68, 67]</td>\n",
       "      <td>[1, 1, 5, 1, 1, 1, 1, 5, 1]</td>\n",
       "      <td>[MRI, MRI, MRI, MRI, DTI, MRI, MRI, MRI, MRI]</td>\n",
       "      <td>[3D T2 FLAIR, 2D GRE-MT, 3D T2 FLAIR, 2D GRE-M...</td>\n",
       "    </tr>\n",
       "    <tr>\n",
       "      <th>...</th>\n",
       "      <td>...</td>\n",
       "      <td>...</td>\n",
       "      <td>...</td>\n",
       "      <td>...</td>\n",
       "      <td>...</td>\n",
       "      <td>...</td>\n",
       "      <td>...</td>\n",
       "    </tr>\n",
       "    <tr>\n",
       "      <th>75512</th>\n",
       "      <td>[I1199323, I1199326, I1199321, I1199324, I1199...</td>\n",
       "      <td>[Prodromal, Prodromal, Prodromal, Prodromal, P...</td>\n",
       "      <td>[F, F, F, F, F]</td>\n",
       "      <td>[51, 51, 51, 51, 51]</td>\n",
       "      <td>[1, 1, 1, 1, 1]</td>\n",
       "      <td>[MRI, DTI, MRI, MRI, DTI]</td>\n",
       "      <td>[MPRAGE_GRAPPA_ADNI, DTI_gated, AXIAL PD-T2 TS...</td>\n",
       "    </tr>\n",
       "    <tr>\n",
       "      <th>75525</th>\n",
       "      <td>[I1526084, I1526075, I1526079, I1526081, I1526...</td>\n",
       "      <td>[Prodromal, Prodromal, Prodromal, Prodromal, P...</td>\n",
       "      <td>[F, F, F, F, F, F, F, F, F]</td>\n",
       "      <td>[73, 73, 73, 73, 73, 73, 73, 73, 73]</td>\n",
       "      <td>[7, 7, 7, 7, 7, 7, 7, 7, 7]</td>\n",
       "      <td>[DTI, MRI, MRI, MRI, MRI, DTI, MRI, MRI, MRI]</td>\n",
       "      <td>[DTI_RL, 3D T2 FLAIR, 2D GRE-MT, 2D GRE-MT, 2D...</td>\n",
       "    </tr>\n",
       "    <tr>\n",
       "      <th>75564</th>\n",
       "      <td>[I1362245, I1362247, I1362244, I1362246, I1362...</td>\n",
       "      <td>[Prodromal, Prodromal, Prodromal, Prodromal, P...</td>\n",
       "      <td>[F, F, F, F, F]</td>\n",
       "      <td>[76, 76, 76, 76, 76]</td>\n",
       "      <td>[1, 1, 1, 1, 1]</td>\n",
       "      <td>[MRI, DTI, MRI, DTI, MRI]</td>\n",
       "      <td>[MPRAGE GRAPPA, DTI_gated, MPRAGE ADNI, DTI_ga...</td>\n",
       "    </tr>\n",
       "    <tr>\n",
       "      <th>85236</th>\n",
       "      <td>[I643417, I951917, I497277, I951920, I497280, ...</td>\n",
       "      <td>[Prodromal, Prodromal, Prodromal, Prodromal, P...</td>\n",
       "      <td>[M, M, M, M, M, M, M, M, M, M, M, M, M, M, M]</td>\n",
       "      <td>[68, 69, 67, 69, 67, 69, 68, 68, 67, 69, 67, 6...</td>\n",
       "      <td>[5, 7, 1, 7, 1, 7, 5, 5, 1, 7, 1, 7, 5, 1, 5]</td>\n",
       "      <td>[MRI, MRI, DTI, MRI, MRI, DTI, MRI, DTI, MRI, ...</td>\n",
       "      <td>[AXIAL PD-T2 TSE FS, AXIAL PD-T2 TSE FS, DTI_g...</td>\n",
       "    </tr>\n",
       "    <tr>\n",
       "      <th>85242</th>\n",
       "      <td>[I951927, I482363, I951930, I643421, I482361, ...</td>\n",
       "      <td>[Prodromal, Prodromal, Prodromal, Prodromal, P...</td>\n",
       "      <td>[M, M, M, M, M, M, M, M, M, M, M, M, M, M, M, M]</td>\n",
       "      <td>[66, 64, 66, 65, 64, 65, 64, 66, 66, 65, 64, 6...</td>\n",
       "      <td>[7, 1, 7, 5, 1, 5, 1, 7, 7, 5, 1, 7, 5, 1, 5, 7]</td>\n",
       "      <td>[MRI, DTI, DTI, MRI, MRI, DTI, MRI, MRI, DTI, ...</td>\n",
       "      <td>[MPRAGE_GRAPPA_ADNI, DTI_gated, DTI_gated, AXI...</td>\n",
       "    </tr>\n",
       "  </tbody>\n",
       "</table>\n",
       "<p>585 rows × 7 columns</p>\n",
       "</div>"
      ],
      "text/plain": [
       "                                                Image Data ID  \\\n",
       "Subject                                                         \n",
       "01218AUG16                                 [I787959, I787960]   \n",
       "08827APR11  [I253669, I253662, I253664, I253666, I253668, ...   \n",
       "100005      [I1526367, I1526369, I1526362, I1526371, I1526...   \n",
       "100006      [I1526387, I1526380, I1526382, I1526384, I1526...   \n",
       "100007      [I1525728, I1525730, I1537555, I1525732, I1525...   \n",
       "...                                                       ...   \n",
       "75512       [I1199323, I1199326, I1199321, I1199324, I1199...   \n",
       "75525       [I1526084, I1526075, I1526079, I1526081, I1526...   \n",
       "75564       [I1362245, I1362247, I1362244, I1362246, I1362...   \n",
       "85236       [I643417, I951917, I497277, I951920, I497280, ...   \n",
       "85242       [I951927, I482363, I951930, I643421, I482361, ...   \n",
       "\n",
       "                                                        Group  \\\n",
       "Subject                                                         \n",
       "01218AUG16                                 [Phantom, Phantom]   \n",
       "08827APR11  [Phantom, Phantom, Phantom, Phantom, Phantom, ...   \n",
       "100005       [PD, PD, PD, PD, PD, PD, PD, PD, PD, PD, PD, PD]   \n",
       "100006      [PD, PD, PD, PD, PD, PD, PD, PD, PD, PD, PD, P...   \n",
       "100007                   [PD, PD, PD, PD, PD, PD, PD, PD, PD]   \n",
       "...                                                       ...   \n",
       "75512       [Prodromal, Prodromal, Prodromal, Prodromal, P...   \n",
       "75525       [Prodromal, Prodromal, Prodromal, Prodromal, P...   \n",
       "75564       [Prodromal, Prodromal, Prodromal, Prodromal, P...   \n",
       "85236       [Prodromal, Prodromal, Prodromal, Prodromal, P...   \n",
       "85242       [Prodromal, Prodromal, Prodromal, Prodromal, P...   \n",
       "\n",
       "                                                         Sex  \\\n",
       "Subject                                                        \n",
       "01218AUG16                                            [X, X]   \n",
       "08827APR11                          [M, M, M, M, M, M, M, M]   \n",
       "100005                  [M, M, M, M, M, M, M, M, M, M, M, M]   \n",
       "100006      [F, F, F, F, F, F, F, F, F, F, F, F, F, F, F, F]   \n",
       "100007                           [M, M, M, M, M, M, M, M, M]   \n",
       "...                                                      ...   \n",
       "75512                                        [F, F, F, F, F]   \n",
       "75525                            [F, F, F, F, F, F, F, F, F]   \n",
       "75564                                        [F, F, F, F, F]   \n",
       "85236          [M, M, M, M, M, M, M, M, M, M, M, M, M, M, M]   \n",
       "85242       [M, M, M, M, M, M, M, M, M, M, M, M, M, M, M, M]   \n",
       "\n",
       "                                                          Age  \\\n",
       "Subject                                                         \n",
       "01218AUG16                                           [56, 56]   \n",
       "08827APR11                   [39, 39, 39, 39, 39, 39, 39, 39]   \n",
       "100005       [53, 53, 53, 53, 53, 53, 53, 53, 53, 53, 53, 53]   \n",
       "100006      [56, 56, 56, 56, 56, 57, 56, 57, 56, 56, 56, 5...   \n",
       "100007                   [67, 67, 68, 67, 67, 67, 67, 68, 67]   \n",
       "...                                                       ...   \n",
       "75512                                    [51, 51, 51, 51, 51]   \n",
       "75525                    [73, 73, 73, 73, 73, 73, 73, 73, 73]   \n",
       "75564                                    [76, 76, 76, 76, 76]   \n",
       "85236       [68, 69, 67, 69, 67, 69, 68, 68, 67, 69, 67, 6...   \n",
       "85242       [66, 64, 66, 65, 64, 65, 64, 66, 66, 65, 64, 6...   \n",
       "\n",
       "                                                       Visit  \\\n",
       "Subject                                                        \n",
       "01218AUG16                                            [0, 0]   \n",
       "08827APR11                          [1, 1, 1, 1, 1, 1, 1, 1]   \n",
       "100005                  [1, 1, 1, 1, 1, 1, 1, 1, 1, 1, 1, 1]   \n",
       "100006      [1, 1, 1, 1, 1, 5, 1, 5, 1, 1, 1, 1, 5, 1, 5, 1]   \n",
       "100007                           [1, 1, 5, 1, 1, 1, 1, 5, 1]   \n",
       "...                                                      ...   \n",
       "75512                                        [1, 1, 1, 1, 1]   \n",
       "75525                            [7, 7, 7, 7, 7, 7, 7, 7, 7]   \n",
       "75564                                        [1, 1, 1, 1, 1]   \n",
       "85236          [5, 7, 1, 7, 1, 7, 5, 5, 1, 7, 1, 7, 5, 1, 5]   \n",
       "85242       [7, 1, 7, 5, 1, 5, 1, 7, 7, 5, 1, 7, 5, 1, 5, 7]   \n",
       "\n",
       "                                                     Modality  \\\n",
       "Subject                                                         \n",
       "01218AUG16                                         [MRI, DTI]   \n",
       "08827APR11           [MRI, MRI, MRI, DTI, DTI, DTI, DTI, DTI]   \n",
       "100005      [DTI, DTI, MRI, DTI, MRI, MRI, DTI, MRI, DTI, ...   \n",
       "100006      [DTI, MRI, MRI, DTI, MRI, MRI, DTI, DTI, MRI, ...   \n",
       "100007          [MRI, MRI, MRI, MRI, DTI, MRI, MRI, MRI, MRI]   \n",
       "...                                                       ...   \n",
       "75512                               [MRI, DTI, MRI, MRI, DTI]   \n",
       "75525           [DTI, MRI, MRI, MRI, MRI, DTI, MRI, MRI, MRI]   \n",
       "75564                               [MRI, DTI, MRI, DTI, MRI]   \n",
       "85236       [MRI, MRI, DTI, MRI, MRI, DTI, MRI, DTI, MRI, ...   \n",
       "85242       [MRI, DTI, DTI, MRI, MRI, DTI, MRI, MRI, DTI, ...   \n",
       "\n",
       "                                                  Description  \n",
       "Subject                                                        \n",
       "01218AUG16                      [MPRAGE Phantom GRAPPA2, DTI]  \n",
       "08827APR11  [localizer, localizer, localizer, DTI_FA, DTI_...  \n",
       "100005      [DTI_FA, DTI, 2D GRE-MT, DTI_30dir R-L, 2D GRE...  \n",
       "100006      [DTI_30dir R-L, 2D GRE-MT, 2D GRE-MT, DTI_ADC,...  \n",
       "100007      [3D T2 FLAIR, 2D GRE-MT, 3D T2 FLAIR, 2D GRE-M...  \n",
       "...                                                       ...  \n",
       "75512       [MPRAGE_GRAPPA_ADNI, DTI_gated, AXIAL PD-T2 TS...  \n",
       "75525       [DTI_RL, 3D T2 FLAIR, 2D GRE-MT, 2D GRE-MT, 2D...  \n",
       "75564       [MPRAGE GRAPPA, DTI_gated, MPRAGE ADNI, DTI_ga...  \n",
       "85236       [AXIAL PD-T2 TSE FS, AXIAL PD-T2 TSE FS, DTI_g...  \n",
       "85242       [MPRAGE_GRAPPA_ADNI, DTI_gated, DTI_gated, AXI...  \n",
       "\n",
       "[585 rows x 7 columns]"
      ]
     },
     "execution_count": 6,
     "metadata": {},
     "output_type": "execute_result"
    }
   ],
   "source": [
    "ppmi_dl_data.groupby(by='Subject').agg(lambda x: list(x))"
   ]
  },
  {
   "cell_type": "markdown",
   "id": "6c46b5a1",
   "metadata": {},
   "source": [
    "## Functional modules: \n",
    "    1. xml meta data extraction; "
   ]
  },
  {
   "cell_type": "code",
   "execution_count": 4,
   "id": "c3ea6f83",
   "metadata": {},
   "outputs": [],
   "source": [
    "# This cell should be skipped if the metadata has already been extracted.\n",
    "metadata_out_path = main_dir / \"PPMI_all_7_18_2022_metadata.csv\"\n",
    "over_write_file=1\n",
    "\n",
    "import xml.etree.ElementTree as ET\n",
    "files = [f for f in os.listdir(meta_dir) if f[-3:]=='xml']\n",
    "tree = ET.parse(str(meta_dir/files[0]))\n",
    "root = tree.getroot()\n",
    "subject_info_list= [];\n",
    "for file in files:\n",
    "    tree = ET.parse(str(meta_dir/file))\n",
    "    root = tree.getroot()\n",
    "    data_dict={};\n",
    "    # General info\n",
    "    data_dict['Image Data ID']   =root[0][3][4][6][0].text\n",
    "    data_dict['Subject']         =root[0][3][0].text\n",
    "    data_dict['Group']           =root[0][3][1].text\n",
    "    data_dict['Site']            =root[0][2].text\n",
    "    data_dict['Sex']             =root[0][3][2].text\n",
    "    data_dict['Visit']           =root[0][3][3][0].text\n",
    "    data_dict['Age']             =root[0][3][4][1].text\n",
    "    data_dict['weightKg']        =root[0][3][4][3].text\n",
    "    # Imaging info\n",
    "    data_dict['Description']     =root[0][3][4][6][1].text\n",
    "    data_dict['Modality']        =root[0][3][4][5][1].text\n",
    "    #data_dict['Field Strength']  =root[0][3][4][6][2][17].text # There are errors in metadata, the format is not consistent.\n",
    "    data_dict['Weighting']       =root[0][3][4][6][2][1].text\n",
    "    data_dict['Acquisition Type']=root[0][3][4][6][2][0].text\n",
    "    data_dict['Acq Date']        =root[0][3][4][5][2].text\n",
    "    data_dict['Matrix X']        =root[0][3][4][6][2][10].text\n",
    "    data_dict['Matrix Y']        =root[0][3][4][6][2][11].text\n",
    "    data_dict['Matrix Z']        =root[0][3][4][6][2][12].text\n",
    "    data_dict['Slice Thickness'] =root[0][3][4][6][2][3].text\n",
    "    # Study info\n",
    "    data_dict['studyIdentifier'] =root[0][3][4][0].text\n",
    "    subject_info_list.append(data_dict)\n",
    "metadata_df=pd.DataFrame(subject_info_list)\n",
    "if over_write_file==1: metadata_df.to_csv(metadata_out_path, index=False)"
   ]
  },
  {
   "cell_type": "markdown",
   "id": "de3d49d7",
   "metadata": {},
   "source": []
  },
  {
   "cell_type": "code",
   "execution_count": null,
   "id": "879ad725",
   "metadata": {},
   "outputs": [],
   "source": []
  }
 ],
 "metadata": {
  "kernelspec": {
   "display_name": "Python 3.9.12 ('base')",
   "language": "python",
   "name": "python3"
  },
  "language_info": {
   "codemirror_mode": {
    "name": "ipython",
    "version": 3
   },
   "file_extension": ".py",
   "mimetype": "text/x-python",
   "name": "python",
   "nbconvert_exporter": "python",
   "pygments_lexer": "ipython3",
   "version": "3.9.12"
  },
  "vscode": {
   "interpreter": {
    "hash": "d4d1e4263499bec80672ea0156c357c1ee493ec2b1c70f0acce89fc37c4a6abe"
   }
  }
 },
 "nbformat": 4,
 "nbformat_minor": 5
}
