{
 "cells": [
  {
   "cell_type": "markdown",
   "metadata": {},
   "source": [
    "## Notebook to keep track of mri derivatives\n",
    "\n",
    "### Raw tabular data is here\n",
    "    `/home/nikhil/projects/Parkinsons/ppmi/derivatives`\n",
    "\n",
    "### Currently collating and tracking following pipelines:\n",
    "    - BIDS\n",
    "    - fMRIPrep\n",
    "    - freesurfer"
   ]
  },
  {
   "cell_type": "code",
   "execution_count": 3,
   "metadata": {},
   "outputs": [],
   "source": [
    "import numpy as np\n",
    "import pandas as pd\n",
    "from itertools import product"
   ]
  },
  {
   "cell_type": "code",
   "execution_count": 22,
   "metadata": {},
   "outputs": [],
   "source": [
    "ppmi_dir = \"/home/nikhil/projects/Parkinsons/ppmi/\"\n",
    "demographics_dir = f\"{ppmi_dir}tabular/demographics/\"\n",
    "bids_dir = f\"{ppmi_dir}bids/\"\n",
    "bids_csv = f\"{bids_dir}participants.tsv\"\n",
    "derivatives_dir = f\"{ppmi_dir}derivatives/\"\n",
    "\n",
    "## tmp subject counts on fmriprep dir\n",
    "fmriprep_ses_subject_ids_dir = f\"{derivatives_dir}subject_ids/\"\n",
    "\n",
    "## TODO status_dir"
   ]
  },
  {
   "cell_type": "code",
   "execution_count": 11,
   "metadata": {},
   "outputs": [
    {
     "name": "stdout",
     "output_type": "stream",
     "text": [
      "n_participants: 1240\n",
      "groups: ['Phantom' 'PD' 'Prodromal' 'Control' 'SWEDD' 'GenReg Unaff' 'AV133']\n",
      "select groups: ['PD', 'Prodromal', 'Control', 'SWEDD']\n",
      "n_participants: 1216\n"
     ]
    },
    {
     "data": {
      "text/html": [
       "<div>\n",
       "<style scoped>\n",
       "    .dataframe tbody tr th:only-of-type {\n",
       "        vertical-align: middle;\n",
       "    }\n",
       "\n",
       "    .dataframe tbody tr th {\n",
       "        vertical-align: top;\n",
       "    }\n",
       "\n",
       "    .dataframe thead th {\n",
       "        text-align: right;\n",
       "    }\n",
       "</style>\n",
       "<table border=\"1\" class=\"dataframe\">\n",
       "  <thead>\n",
       "    <tr style=\"text-align: right;\">\n",
       "      <th></th>\n",
       "      <th>participant_id</th>\n",
       "      <th>age</th>\n",
       "      <th>sex</th>\n",
       "      <th>group</th>\n",
       "    </tr>\n",
       "  </thead>\n",
       "  <tbody>\n",
       "    <tr>\n",
       "      <th>3</th>\n",
       "      <td>sub-100001</td>\n",
       "      <td>67</td>\n",
       "      <td>M</td>\n",
       "      <td>PD</td>\n",
       "    </tr>\n",
       "    <tr>\n",
       "      <th>4</th>\n",
       "      <td>sub-100005</td>\n",
       "      <td>53</td>\n",
       "      <td>M</td>\n",
       "      <td>PD</td>\n",
       "    </tr>\n",
       "    <tr>\n",
       "      <th>5</th>\n",
       "      <td>sub-100006</td>\n",
       "      <td>56</td>\n",
       "      <td>F</td>\n",
       "      <td>PD</td>\n",
       "    </tr>\n",
       "    <tr>\n",
       "      <th>6</th>\n",
       "      <td>sub-100007</td>\n",
       "      <td>67</td>\n",
       "      <td>M</td>\n",
       "      <td>PD</td>\n",
       "    </tr>\n",
       "    <tr>\n",
       "      <th>7</th>\n",
       "      <td>sub-100012</td>\n",
       "      <td>66</td>\n",
       "      <td>F</td>\n",
       "      <td>PD</td>\n",
       "    </tr>\n",
       "  </tbody>\n",
       "</table>\n",
       "</div>"
      ],
      "text/plain": [
       "  participant_id  age sex group\n",
       "3     sub-100001   67   M    PD\n",
       "4     sub-100005   53   M    PD\n",
       "5     sub-100006   56   F    PD\n",
       "6     sub-100007   67   M    PD\n",
       "7     sub-100012   66   F    PD"
      ]
     },
     "execution_count": 11,
     "metadata": {},
     "output_type": "execute_result"
    }
   ],
   "source": [
    "current_mr_proc_manifest_csv = f\"{demographics_dir}/mr_proc_manifest.csv\"\n",
    "current_mr_proc_manifest_df = pd.read_csv(current_mr_proc_manifest_csv)\n",
    "\n",
    "n_participants = len(current_mr_proc_manifest_df[\"participant_id\"].unique())\n",
    "print(f\"n_participants: {n_participants}\")\n",
    "\n",
    "dx_groups = current_mr_proc_manifest_df[\"group\"].unique()\n",
    "print(f\"groups: {dx_groups}\")\n",
    "select_dex_groups = ['PD', 'Prodromal', 'Control', 'SWEDD']\n",
    "print(f\"select groups: {select_dex_groups}\")\n",
    "current_mr_proc_manifest_df = current_mr_proc_manifest_df[current_mr_proc_manifest_df[\"group\"].isin(select_dex_groups)]\n",
    "\n",
    "n_participants = len(current_mr_proc_manifest_df[\"participant_id\"].unique())\n",
    "print(f\"n_participants: {n_participants}\")\n",
    "current_mr_proc_manifest_df.head()"
   ]
  },
  {
   "cell_type": "markdown",
   "metadata": {},
   "source": [
    "### Check BIDS participants"
   ]
  },
  {
   "cell_type": "code",
   "execution_count": 43,
   "metadata": {},
   "outputs": [
    {
     "name": "stdout",
     "output_type": "stream",
     "text": [
      "n_participants: 560\n"
     ]
    },
    {
     "data": {
      "text/plain": [
       "group\n",
       "Control       89\n",
       "PD           285\n",
       "Prodromal    140\n",
       "SWEDD         42\n",
       "Name: participant_id, dtype: int64"
      ]
     },
     "execution_count": 43,
     "metadata": {},
     "output_type": "execute_result"
    }
   ],
   "source": [
    "bids_df = pd.read_csv(bids_csv,sep=\"\\t\")\n",
    "bids_ids = bids_df[\"participant_id\"].unique()\n",
    "n_bids_ids = len(bids_ids)\n",
    "print(f\"n_participants: {n_bids_ids}\")\n",
    "\n",
    "# Demographics of bids ids\n",
    "proc_df = current_mr_proc_manifest_df[current_mr_proc_manifest_df[\"participant_id\"].isin(bids_ids)]\n",
    "proc_df.groupby([\"group\"]).count()[\"participant_id\"]"
   ]
  },
  {
   "cell_type": "markdown",
   "metadata": {},
   "source": [
    "### Check number of sessions\n",
    "- 0,,'Screening'\n",
    "- 1,0,'Baseline'\n",
    "- 5,12,'Month 12'\n",
    "- 7,24,'Month 24'\n",
    "- 9,36,'Month 36'\n",
    "- 11,48,'Month 48'\n",
    "- 30,,'Premature Withdrawal'\n",
    "- 21,,'Symptomatic Therapy'\n",
    "- 90,,'Unscheduled Visit 01'"
   ]
  },
  {
   "cell_type": "code",
   "execution_count": 37,
   "metadata": {},
   "outputs": [
    {
     "name": "stdout",
     "output_type": "stream",
     "text": [
      "Screening, n_participants: 3\n",
      "Baseline, n_participants: 430\n",
      "Month 12, n_participants: 238\n",
      "Month 24, n_participants: 237\n",
      "Month 36, n_participants: 2\n",
      "Month 48, n_participants: 157\n"
     ]
    }
   ],
   "source": [
    "session_dict = {0: \"Screening\",\n",
    "                1: \"Baseline\", \n",
    "                5: \"Month 12\",\n",
    "                7: \"Month 24\",\n",
    "                9: \"Month 36\",\n",
    "                11: \"Month 48\"\n",
    "                }\n",
    "\n",
    "for ses_id, ses_name in session_dict.items():\n",
    "    ses_participant_ids_txt = f\"{fmriprep_ses_subject_ids_dir}/PPMI_ses-{ses_id}_fmriprep_anat_20.2.7_participant_ids.txt\"\n",
    "    participants_list = list(pd.read_csv(ses_participant_ids_txt, header=None)[0].unique())\n",
    "    n_participants = len(participants_list)\n",
    "\n",
    "    print(f\"{ses_name}, n_participants: {n_participants}\")"
   ]
  },
  {
   "cell_type": "markdown",
   "metadata": {},
   "source": [
    "### Baseline fmriprep proc"
   ]
  },
  {
   "cell_type": "code",
   "execution_count": 41,
   "metadata": {},
   "outputs": [
    {
     "name": "stdout",
     "output_type": "stream",
     "text": [
      "n_participants: 430\n"
     ]
    }
   ],
   "source": [
    "ses_participant_ids_txt = f\"{fmriprep_ses_subject_ids_dir}/PPMI_ses-1_fmriprep_anat_20.2.7_participant_ids.txt\"\n",
    "baseline_participants_list = list(pd.read_csv(ses_participant_ids_txt, header=None)[0].unique())\n",
    "n_participants = len(baseline_participants_list)\n",
    "print(f\"n_participants: {n_participants}\")"
   ]
  },
  {
   "cell_type": "code",
   "execution_count": 46,
   "metadata": {},
   "outputs": [
    {
     "name": "stdout",
     "output_type": "stream",
     "text": [
      "n_proc_df: 429\n"
     ]
    },
    {
     "data": {
      "text/plain": [
       "group\n",
       "Control       75\n",
       "PD           223\n",
       "Prodromal     92\n",
       "SWEDD         39\n",
       "Name: participant_id, dtype: int64"
      ]
     },
     "execution_count": 46,
     "metadata": {},
     "output_type": "execute_result"
    }
   ],
   "source": [
    "# Demographics of processed fmriprep ids\n",
    "proc_df = current_mr_proc_manifest_df[current_mr_proc_manifest_df[\"participant_id\"].isin(baseline_participants_list)]\n",
    "print(f\"n_proc_df: {len(proc_df)}\")\n",
    "proc_df.groupby([\"group\"]).count()[\"participant_id\"]"
   ]
  },
  {
   "cell_type": "code",
   "execution_count": null,
   "metadata": {},
   "outputs": [],
   "source": []
  }
 ],
 "metadata": {
  "interpreter": {
   "hash": "9e85faa3937191409befa9075f65ba0f49919df55e77b3fcca0bc43183dd2917"
  },
  "kernelspec": {
   "display_name": "Python 3.8.5 ('parkinsons')",
   "language": "python",
   "name": "python3"
  },
  "language_info": {
   "codemirror_mode": {
    "name": "ipython",
    "version": 3
   },
   "file_extension": ".py",
   "mimetype": "text/x-python",
   "name": "python",
   "nbconvert_exporter": "python",
   "pygments_lexer": "ipython3",
   "version": "3.8.5"
  },
  "orig_nbformat": 4
 },
 "nbformat": 4,
 "nbformat_minor": 2
}
