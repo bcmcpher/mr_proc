{
 "cells": [
  {
   "cell_type": "markdown",
   "metadata": {},
   "source": [
    "## Notebook to keep track of mri derivatives\n",
    "\n",
    "### Raw tabular data is here\n",
    "    `/home/nikhil/projects/Parkinsons/ppmi/derivatives`\n",
    "\n",
    "### Currently collating and tracking following pipelines:\n",
    "    - BIDS\n",
    "    - fMRIPrep\n",
    "    - freesurfer"
   ]
  },
  {
   "cell_type": "code",
   "execution_count": 1,
   "metadata": {},
   "outputs": [],
   "source": [
    "import numpy as np\n",
    "import pandas as pd\n",
    "from itertools import product"
   ]
  },
  {
   "cell_type": "code",
   "execution_count": 5,
   "metadata": {},
   "outputs": [],
   "source": [
    "ppmi_dir = \"/home/nikhil/projects/Parkinsons/ppmi/\"\n",
    "demographics_dir = f\"{ppmi_dir}tabular/demographics/\"\n",
    "\n",
    "bids_status_dir = f\"{ppmi_dir}scratch/bids_status/current/\"\n",
    "\n",
    "derivatives_dir = f\"{ppmi_dir}derivatives/\"\n",
    "\n",
    "bids_status_csv = f\"{bids_status_dir}bids_status.csv\"\n",
    "\n",
    "## tmp subject counts on fmriprep dir\n",
    "fmriprep_ses_subject_ids_dir = f\"{derivatives_dir}subject_ids/\"\n",
    "\n",
    "## status_dir\n",
    "bagel_csv = f\"{ppmi_dir}/derivatives/bagel.csv\""
   ]
  },
  {
   "cell_type": "code",
   "execution_count": 6,
   "metadata": {},
   "outputs": [
    {
     "name": "stdout",
     "output_type": "stream",
     "text": [
      "n_participants: 1216\n",
      "groups: ['PD' 'Prodromal' 'Control' 'SWEDD']\n",
      "select groups: ['PD', 'Prodromal', 'Control', 'SWEDD']\n",
      "n_participants: 1216\n"
     ]
    },
    {
     "data": {
      "text/html": [
       "<div>\n",
       "<style scoped>\n",
       "    .dataframe tbody tr th:only-of-type {\n",
       "        vertical-align: middle;\n",
       "    }\n",
       "\n",
       "    .dataframe tbody tr th {\n",
       "        vertical-align: top;\n",
       "    }\n",
       "\n",
       "    .dataframe thead th {\n",
       "        text-align: right;\n",
       "    }\n",
       "</style>\n",
       "<table border=\"1\" class=\"dataframe\">\n",
       "  <thead>\n",
       "    <tr style=\"text-align: right;\">\n",
       "      <th></th>\n",
       "      <th>participant_id</th>\n",
       "      <th>age</th>\n",
       "      <th>sex</th>\n",
       "      <th>group</th>\n",
       "    </tr>\n",
       "  </thead>\n",
       "  <tbody>\n",
       "    <tr>\n",
       "      <th>0</th>\n",
       "      <td>100001</td>\n",
       "      <td>67</td>\n",
       "      <td>M</td>\n",
       "      <td>PD</td>\n",
       "    </tr>\n",
       "    <tr>\n",
       "      <th>1</th>\n",
       "      <td>100005</td>\n",
       "      <td>53</td>\n",
       "      <td>M</td>\n",
       "      <td>PD</td>\n",
       "    </tr>\n",
       "    <tr>\n",
       "      <th>2</th>\n",
       "      <td>100006</td>\n",
       "      <td>56</td>\n",
       "      <td>F</td>\n",
       "      <td>PD</td>\n",
       "    </tr>\n",
       "    <tr>\n",
       "      <th>3</th>\n",
       "      <td>100007</td>\n",
       "      <td>67</td>\n",
       "      <td>M</td>\n",
       "      <td>PD</td>\n",
       "    </tr>\n",
       "    <tr>\n",
       "      <th>4</th>\n",
       "      <td>100012</td>\n",
       "      <td>66</td>\n",
       "      <td>F</td>\n",
       "      <td>PD</td>\n",
       "    </tr>\n",
       "  </tbody>\n",
       "</table>\n",
       "</div>"
      ],
      "text/plain": [
       "   participant_id  age sex group\n",
       "0          100001   67   M    PD\n",
       "1          100005   53   M    PD\n",
       "2          100006   56   F    PD\n",
       "3          100007   67   M    PD\n",
       "4          100012   66   F    PD"
      ]
     },
     "execution_count": 6,
     "metadata": {},
     "output_type": "execute_result"
    }
   ],
   "source": [
    "current_mr_proc_manifest_csv = f\"{demographics_dir}/mr_proc_manifest.csv\"\n",
    "current_mr_proc_manifest_df = pd.read_csv(current_mr_proc_manifest_csv)\n",
    "\n",
    "n_participants = len(current_mr_proc_manifest_df[\"participant_id\"].unique())\n",
    "print(f\"n_participants: {n_participants}\")\n",
    "\n",
    "dx_groups = current_mr_proc_manifest_df[\"group\"].unique()\n",
    "print(f\"groups: {dx_groups}\")\n",
    "select_dex_groups = ['PD', 'Prodromal', 'Control', 'SWEDD']\n",
    "print(f\"select groups: {select_dex_groups}\")\n",
    "current_mr_proc_manifest_df = current_mr_proc_manifest_df[current_mr_proc_manifest_df[\"group\"].isin(select_dex_groups)]\n",
    "\n",
    "n_participants = len(current_mr_proc_manifest_df[\"participant_id\"].unique())\n",
    "print(f\"n_participants: {n_participants}\")\n",
    "current_mr_proc_manifest_df.head()"
   ]
  },
  {
   "cell_type": "markdown",
   "metadata": {},
   "source": [
    "### Check BIDS participants"
   ]
  },
  {
   "cell_type": "code",
   "execution_count": 22,
   "metadata": {},
   "outputs": [
    {
     "name": "stdout",
     "output_type": "stream",
     "text": [
      "n_participants: 1131\n"
     ]
    },
    {
     "data": {
      "text/html": [
       "<div>\n",
       "<style scoped>\n",
       "    .dataframe tbody tr th:only-of-type {\n",
       "        vertical-align: middle;\n",
       "    }\n",
       "\n",
       "    .dataframe tbody tr th {\n",
       "        vertical-align: top;\n",
       "    }\n",
       "\n",
       "    .dataframe thead th {\n",
       "        text-align: right;\n",
       "    }\n",
       "</style>\n",
       "<table border=\"1\" class=\"dataframe\">\n",
       "  <thead>\n",
       "    <tr style=\"text-align: right;\">\n",
       "      <th></th>\n",
       "      <th>participant_id</th>\n",
       "      <th>anat</th>\n",
       "      <th>dwi</th>\n",
       "    </tr>\n",
       "    <tr>\n",
       "      <th>session_id</th>\n",
       "      <th></th>\n",
       "      <th></th>\n",
       "      <th></th>\n",
       "    </tr>\n",
       "  </thead>\n",
       "  <tbody>\n",
       "    <tr>\n",
       "      <th>0</th>\n",
       "      <td>6</td>\n",
       "      <td>6</td>\n",
       "      <td>6</td>\n",
       "    </tr>\n",
       "    <tr>\n",
       "      <th>1</th>\n",
       "      <td>977</td>\n",
       "      <td>977</td>\n",
       "      <td>977</td>\n",
       "    </tr>\n",
       "    <tr>\n",
       "      <th>5</th>\n",
       "      <td>248</td>\n",
       "      <td>248</td>\n",
       "      <td>248</td>\n",
       "    </tr>\n",
       "    <tr>\n",
       "      <th>7</th>\n",
       "      <td>244</td>\n",
       "      <td>244</td>\n",
       "      <td>244</td>\n",
       "    </tr>\n",
       "    <tr>\n",
       "      <th>9</th>\n",
       "      <td>2</td>\n",
       "      <td>2</td>\n",
       "      <td>2</td>\n",
       "    </tr>\n",
       "    <tr>\n",
       "      <th>11</th>\n",
       "      <td>160</td>\n",
       "      <td>160</td>\n",
       "      <td>160</td>\n",
       "    </tr>\n",
       "    <tr>\n",
       "      <th>21</th>\n",
       "      <td>10</td>\n",
       "      <td>10</td>\n",
       "      <td>10</td>\n",
       "    </tr>\n",
       "    <tr>\n",
       "      <th>30</th>\n",
       "      <td>1</td>\n",
       "      <td>1</td>\n",
       "      <td>1</td>\n",
       "    </tr>\n",
       "    <tr>\n",
       "      <th>90</th>\n",
       "      <td>7</td>\n",
       "      <td>7</td>\n",
       "      <td>7</td>\n",
       "    </tr>\n",
       "    <tr>\n",
       "      <th>91</th>\n",
       "      <td>1</td>\n",
       "      <td>1</td>\n",
       "      <td>1</td>\n",
       "    </tr>\n",
       "  </tbody>\n",
       "</table>\n",
       "</div>"
      ],
      "text/plain": [
       "            participant_id  anat  dwi\n",
       "session_id                           \n",
       "0                        6     6    6\n",
       "1                      977   977  977\n",
       "5                      248   248  248\n",
       "7                      244   244  244\n",
       "9                        2     2    2\n",
       "11                     160   160  160\n",
       "21                      10    10   10\n",
       "30                       1     1    1\n",
       "90                       7     7    7\n",
       "91                       1     1    1"
      ]
     },
     "execution_count": 22,
     "metadata": {},
     "output_type": "execute_result"
    }
   ],
   "source": [
    "bids_df = pd.read_csv(bids_status_csv)\n",
    "bids_ids = bids_df[\"participant_id\"].unique()\n",
    "n_bids_ids = len(bids_ids)\n",
    "print(f\"n_participants: {n_bids_ids}\")\n",
    "\n",
    "bids_df = bids_df[bids_df[\"anat\"] !=0 ]\n",
    "\n",
    "bids_df.groupby(\"session_id\").count()"
   ]
  },
  {
   "cell_type": "markdown",
   "metadata": {},
   "source": [
    "### Check fmriprep output tally\n",
    "- 0,,'Screening'\n",
    "- 1,0,'Baseline'\n",
    "- 5,12,'Month 12'\n",
    "- 7,24,'Month 24'\n",
    "- 9,36,'Month 36'\n",
    "- 11,48,'Month 48'\n",
    "- 30,,'Premature Withdrawal'\n",
    "- 21,,'Symptomatic Therapy'\n",
    "- 90,,'Unscheduled Visit 01'"
   ]
  },
  {
   "cell_type": "code",
   "execution_count": 8,
   "metadata": {},
   "outputs": [
    {
     "name": "stdout",
     "output_type": "stream",
     "text": [
      "Screening, n_participants: 3\n",
      "Baseline, n_participants: 430\n",
      "Month 12, n_participants: 238\n",
      "Month 24, n_participants: 237\n",
      "Month 36, n_participants: 2\n",
      "Month 48, n_participants: 157\n"
     ]
    }
   ],
   "source": [
    "session_dict = {0: \"Screening\",\n",
    "                1: \"Baseline\", \n",
    "                5: \"Month 12\",\n",
    "                7: \"Month 24\",\n",
    "                9: \"Month 36\",\n",
    "                11: \"Month 48\"\n",
    "                }\n",
    "\n",
    "for ses_id, ses_name in session_dict.items():\n",
    "    ses_participant_ids_txt = f\"{fmriprep_ses_subject_ids_dir}/PPMI_ses-{ses_id}_fmriprep_anat_20.2.7_participant_ids.txt\"\n",
    "    participants_list = list(pd.read_csv(ses_participant_ids_txt, header=None)[0].unique())\n",
    "    n_participants = len(participants_list)\n",
    "\n",
    "    print(f\"{ses_name}, n_participants: {n_participants}\")"
   ]
  },
  {
   "cell_type": "markdown",
   "metadata": {},
   "source": [
    "### Baseline fmriprep proc"
   ]
  },
  {
   "cell_type": "code",
   "execution_count": 17,
   "metadata": {},
   "outputs": [
    {
     "name": "stdout",
     "output_type": "stream",
     "text": [
      "n_participants: 430\n"
     ]
    }
   ],
   "source": [
    "ses_participant_ids_txt = f\"{fmriprep_ses_subject_ids_dir}/PPMI_ses-1_fmriprep_anat_20.2.7_participant_ids.txt\"\n",
    "baseline_participants_list = list(pd.read_csv(ses_participant_ids_txt, header=None)[0].unique())\n",
    "n_participants = len(baseline_participants_list)\n",
    "print(f\"n_participants: {n_participants}\")"
   ]
  },
  {
   "cell_type": "code",
   "execution_count": 18,
   "metadata": {},
   "outputs": [
    {
     "name": "stdout",
     "output_type": "stream",
     "text": [
      "n_proc_df: 0\n"
     ]
    },
    {
     "data": {
      "text/plain": [
       "Series([], Name: participant_id, dtype: int64)"
      ]
     },
     "execution_count": 18,
     "metadata": {},
     "output_type": "execute_result"
    }
   ],
   "source": [
    "# Demographics of processed fmriprep ids\n",
    "proc_df = current_mr_proc_manifest_df[current_mr_proc_manifest_df[\"participant_id\"].isin(baseline_participants_list)]\n",
    "print(f\"n_proc_df: {len(proc_df)}\")\n",
    "proc_df.groupby([\"group\"]).count()[\"participant_id\"]"
   ]
  },
  {
   "cell_type": "markdown",
   "metadata": {},
   "source": [
    "### Check bagel.csv \n",
    "    - currently only tracking freesurfer"
   ]
  },
  {
   "cell_type": "code",
   "execution_count": 34,
   "metadata": {},
   "outputs": [
    {
     "data": {
      "text/html": [
       "<div>\n",
       "<style scoped>\n",
       "    .dataframe tbody tr th:only-of-type {\n",
       "        vertical-align: middle;\n",
       "    }\n",
       "\n",
       "    .dataframe tbody tr th {\n",
       "        vertical-align: top;\n",
       "    }\n",
       "\n",
       "    .dataframe thead th {\n",
       "        text-align: right;\n",
       "    }\n",
       "</style>\n",
       "<table border=\"1\" class=\"dataframe\">\n",
       "  <thead>\n",
       "    <tr style=\"text-align: right;\">\n",
       "      <th></th>\n",
       "      <th>participant_id</th>\n",
       "      <th>session</th>\n",
       "      <th>pipeline</th>\n",
       "      <th>version</th>\n",
       "      <th>Global_run_status</th>\n",
       "      <th>Phase_DKT_stats</th>\n",
       "      <th>workflow</th>\n",
       "      <th>bids_id</th>\n",
       "    </tr>\n",
       "  </thead>\n",
       "  <tbody>\n",
       "    <tr>\n",
       "      <th>12</th>\n",
       "      <td>100891</td>\n",
       "      <td>1</td>\n",
       "      <td>NaN</td>\n",
       "      <td>6.0.1</td>\n",
       "      <td>True</td>\n",
       "      <td>True</td>\n",
       "      <td>freesurfer</td>\n",
       "      <td>sub-100891</td>\n",
       "    </tr>\n",
       "    <tr>\n",
       "      <th>13</th>\n",
       "      <td>100898</td>\n",
       "      <td>1</td>\n",
       "      <td>NaN</td>\n",
       "      <td>6.0.1</td>\n",
       "      <td>True</td>\n",
       "      <td>True</td>\n",
       "      <td>freesurfer</td>\n",
       "      <td>sub-100898</td>\n",
       "    </tr>\n",
       "    <tr>\n",
       "      <th>16</th>\n",
       "      <td>100952</td>\n",
       "      <td>1</td>\n",
       "      <td>NaN</td>\n",
       "      <td>6.0.1</td>\n",
       "      <td>True</td>\n",
       "      <td>True</td>\n",
       "      <td>freesurfer</td>\n",
       "      <td>sub-100952</td>\n",
       "    </tr>\n",
       "    <tr>\n",
       "      <th>20</th>\n",
       "      <td>101038</td>\n",
       "      <td>1</td>\n",
       "      <td>NaN</td>\n",
       "      <td>6.0.1</td>\n",
       "      <td>True</td>\n",
       "      <td>True</td>\n",
       "      <td>freesurfer</td>\n",
       "      <td>sub-101038</td>\n",
       "    </tr>\n",
       "    <tr>\n",
       "      <th>21</th>\n",
       "      <td>101039</td>\n",
       "      <td>1</td>\n",
       "      <td>NaN</td>\n",
       "      <td>6.0.1</td>\n",
       "      <td>True</td>\n",
       "      <td>True</td>\n",
       "      <td>freesurfer</td>\n",
       "      <td>sub-101039</td>\n",
       "    </tr>\n",
       "  </tbody>\n",
       "</table>\n",
       "</div>"
      ],
      "text/plain": [
       "    participant_id  session  pipeline version  Global_run_status  \\\n",
       "12          100891        1       NaN   6.0.1               True   \n",
       "13          100898        1       NaN   6.0.1               True   \n",
       "16          100952        1       NaN   6.0.1               True   \n",
       "20          101038        1       NaN   6.0.1               True   \n",
       "21          101039        1       NaN   6.0.1               True   \n",
       "\n",
       "    Phase_DKT_stats    workflow     bids_id  \n",
       "12             True  freesurfer  sub-100891  \n",
       "13             True  freesurfer  sub-100898  \n",
       "16             True  freesurfer  sub-100952  \n",
       "20             True  freesurfer  sub-101038  \n",
       "21             True  freesurfer  sub-101039  "
      ]
     },
     "execution_count": 34,
     "metadata": {},
     "output_type": "execute_result"
    }
   ],
   "source": [
    "bagel_df = pd.read_csv(bagel_csv).rename(columns={\"Unnamed: 0\":\"participant_id\"})\n",
    "bagel_df[\"bids_id\"] = \"sub-\" + bagel_df[\"participant_id\"].astype(str)\n",
    "bagel_df = bagel_df[bagel_df[\"Global_run_status\"]]\n",
    "bagel_df.head()"
   ]
  },
  {
   "cell_type": "markdown",
   "metadata": {},
   "source": [
    "### Subjects to be processed"
   ]
  },
  {
   "cell_type": "code",
   "execution_count": 35,
   "metadata": {},
   "outputs": [],
   "source": [
    "def get_missing_participant_ids(bids_df, bagel_df):\n",
    "    bids_ids = set(bids_df[\"participant_id\"].unique())\n",
    "    bagel_ids = set(bagel_df[\"bids_id\"].unique())\n",
    "    missing_ids = bids_ids - bagel_ids\n",
    "    return list(missing_ids)"
   ]
  },
  {
   "cell_type": "code",
   "execution_count": 38,
   "metadata": {},
   "outputs": [
    {
     "name": "stdout",
     "output_type": "stream",
     "text": [
      "n_participants reprocess: 554\n",
      "n_participants reprocess: 25\n",
      "n_participants reprocess: 23\n",
      "n_participants reprocess: 0\n",
      "n_participants reprocess: 11\n"
     ]
    }
   ],
   "source": [
    "save_ids = False\n",
    "participants_list_dir = f\"{ppmi_dir}/scratch/participant_lists/\"\n",
    "for ses in [1,5,7,9,11]:\n",
    "    df1 = bids_df[bids_df[\"session_id\"]==ses]\n",
    "    df2 = bagel_df[bagel_df[\"session\"]==ses]\n",
    "\n",
    "    missing_ids = get_missing_participant_ids(df1, df2)\n",
    "    print(f\"n_participants reprocess: {len(missing_ids)}\")\n",
    "\n",
    "    if save_ids: \n",
    "        missing_csv = f\"{participants_list_dir}/participants_reprocess_ses-{ses}.csv\"\n",
    "        missing_df = pd.DataFrame()\n",
    "        missing_df[\"participant_id\"] = missing_ids\n",
    "        missing_df[\"session_id\"] = ses\n",
    "        \n",
    "        missing_df.to_csv(missing_csv, index=None)"
   ]
  },
  {
   "cell_type": "code",
   "execution_count": null,
   "metadata": {},
   "outputs": [],
   "source": []
  }
 ],
 "metadata": {
  "interpreter": {
   "hash": "9e85faa3937191409befa9075f65ba0f49919df55e77b3fcca0bc43183dd2917"
  },
  "kernelspec": {
   "display_name": "Python 3.8.5 ('parkinsons')",
   "language": "python",
   "name": "python3"
  },
  "language_info": {
   "codemirror_mode": {
    "name": "ipython",
    "version": 3
   },
   "file_extension": ".py",
   "mimetype": "text/x-python",
   "name": "python",
   "nbconvert_exporter": "python",
   "pygments_lexer": "ipython3",
   "version": "3.8.5"
  },
  "orig_nbformat": 4
 },
 "nbformat": 4,
 "nbformat_minor": 2
}
