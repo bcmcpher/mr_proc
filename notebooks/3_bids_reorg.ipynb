{
 "cells": [
  {
   "cell_type": "markdown",
   "metadata": {},
   "source": [
    "## Notebook to reorganize PPMI BIDS and derivative processing\n",
    "    - Vincent has multiple releases\n",
    "        - bids, sdMRI, T1only, livingpark\n",
    "\n",
    "    - Steps: BIDS Merge\n",
    "        - fix participants.tsv for any participants mismatch with BIDS dir\n",
    "        - count available participants, sessions, and modalities (bids_tracker.py) acorss releases\n",
    "        - copy additional participants from releases (i.e. ver_T1, ver_livingpark) into current (i.e. mr_proc) BIDS dir\n",
    "        - copy additional sessions from releases into current participants dirs\n",
    "        - copy additional modalities from releases into current participants/session dirs\n",
    "\n",
    "    - Steps: Derivatives Merge\n",
    "        - TODO"
   ]
  },
  {
   "cell_type": "code",
   "execution_count": 1,
   "metadata": {},
   "outputs": [],
   "source": [
    "import numpy as np\n",
    "import pandas as pd\n",
    "from itertools import product"
   ]
  },
  {
   "cell_type": "markdown",
   "metadata": {},
   "source": [
    "### Proc tracker paths"
   ]
  },
  {
   "cell_type": "code",
   "execution_count": 2,
   "metadata": {},
   "outputs": [],
   "source": [
    "proc_status_dir = \"/home/nikhil/projects/Parkinsons/ppmi/proc_status/\"\n",
    "current_dir = f\"{proc_status_dir}current/\"\n",
    "\n",
    "ver_sdMRI_dir = f\"{proc_status_dir}ver_sdMRI/\"\n",
    "ver_T1_dir = f\"{proc_status_dir}ver_T1w/\"\n",
    "ver_LP1_dir = f\"{proc_status_dir}ver_LP1/\""
   ]
  },
  {
   "cell_type": "markdown",
   "metadata": {},
   "source": [
    "### Fix PPMI participants.tsv\n",
    "    - ver_T1w has mismatched participants"
   ]
  },
  {
   "cell_type": "code",
   "execution_count": 3,
   "metadata": {},
   "outputs": [],
   "source": [
    "# participant_tsv_to_fix = f\"{ver_T1_dir}participants_to_fix.tsv\"\n",
    "# participant_tsv = f\"{ver_T1_dir}participants.tsv\"\n",
    "# mismatched_csv = f\"{ver_T1_dir}mismatched_participants.csv\"\n",
    "\n",
    "# participant_df = pd.read_csv(participant_tsv_to_fix, sep=\"\\t\")\n",
    "# mismatched_df = pd.read_csv(mismatched_csv)[[\"participant_id\",\"status\"]]\n",
    "\n",
    "# print(f\"number of participants: {len(participant_df)}\")\n",
    "# participant_df.head()\n",
    "\n",
    "# drop_participants = mismatched_df[mismatched_df[\"status\"] == \"participants_missing_in_bids_dir\"][\"participant_id\"].values\n",
    "# add_participants = mismatched_df[mismatched_df[\"status\"] == \"participants_missing_in_tsv\"][\"participant_id\"].values\n",
    "\n",
    "# print(f\"n_drop particiants: {len(drop_participants)}, n_add_participants: {len(add_participants)}\")\n",
    "\n",
    "# add_df = pd.DataFrame()\n",
    "# add_df[\"participant_id\"] = add_participants\n",
    "# add_df[\"age\"] = None\n",
    "# add_df[\"sex\"] = None\n",
    "# add_df[\"group\"] = None\n",
    "\n",
    "# participant_df = participant_df[~participant_df[\"participant_id\"].isin(drop_participants)]\n",
    "# participant_df = participant_df.append(add_df)\n",
    "# print(f\"number of participants after add/drop: {len(participant_df)}\")\n",
    "\n",
    "# # Save participant.tsv\n",
    "# # participant_df.to_csv(participant_tsv, index=None, sep=\"\\t\")"
   ]
  },
  {
   "cell_type": "markdown",
   "metadata": {},
   "source": [
    "### Check BIDS availability\n",
    "    - participants in bids_current_df == participants in bids_sdMRI_df = 569\n",
    "        - Including counts for each session and modality\n",
    "    - len(current_participants - T1_participants ) = 104\n",
    "    - len(T1_participants - current_participants) = 552"
   ]
  },
  {
   "cell_type": "code",
   "execution_count": 3,
   "metadata": {},
   "outputs": [
    {
     "name": "stdout",
     "output_type": "stream",
     "text": [
      "current: 1131\n",
      "sdMRI: 569\n",
      "T1: 1017\n",
      "LP: 21\n"
     ]
    },
    {
     "data": {
      "text/html": [
       "<div>\n",
       "<style scoped>\n",
       "    .dataframe tbody tr th:only-of-type {\n",
       "        vertical-align: middle;\n",
       "    }\n",
       "\n",
       "    .dataframe tbody tr th {\n",
       "        vertical-align: top;\n",
       "    }\n",
       "\n",
       "    .dataframe thead th {\n",
       "        text-align: right;\n",
       "    }\n",
       "</style>\n",
       "<table border=\"1\" class=\"dataframe\">\n",
       "  <thead>\n",
       "    <tr style=\"text-align: right;\">\n",
       "      <th></th>\n",
       "      <th>participant_id</th>\n",
       "      <th>session_id</th>\n",
       "      <th>anat</th>\n",
       "      <th>dwi</th>\n",
       "    </tr>\n",
       "  </thead>\n",
       "  <tbody>\n",
       "    <tr>\n",
       "      <th>0</th>\n",
       "      <td>sub-42860</td>\n",
       "      <td>30</td>\n",
       "      <td>0</td>\n",
       "      <td>0</td>\n",
       "    </tr>\n",
       "    <tr>\n",
       "      <th>1</th>\n",
       "      <td>sub-42860</td>\n",
       "      <td>5</td>\n",
       "      <td>0</td>\n",
       "      <td>0</td>\n",
       "    </tr>\n",
       "    <tr>\n",
       "      <th>2</th>\n",
       "      <td>sub-42860</td>\n",
       "      <td>7</td>\n",
       "      <td>0</td>\n",
       "      <td>0</td>\n",
       "    </tr>\n",
       "    <tr>\n",
       "      <th>3</th>\n",
       "      <td>sub-42860</td>\n",
       "      <td>1</td>\n",
       "      <td>2</td>\n",
       "      <td>2</td>\n",
       "    </tr>\n",
       "    <tr>\n",
       "      <th>4</th>\n",
       "      <td>sub-42860</td>\n",
       "      <td>90</td>\n",
       "      <td>0</td>\n",
       "      <td>0</td>\n",
       "    </tr>\n",
       "  </tbody>\n",
       "</table>\n",
       "</div>"
      ],
      "text/plain": [
       "  participant_id  session_id  anat  dwi\n",
       "0      sub-42860          30     0    0\n",
       "1      sub-42860           5     0    0\n",
       "2      sub-42860           7     0    0\n",
       "3      sub-42860           1     2    2\n",
       "4      sub-42860          90     0    0"
      ]
     },
     "execution_count": 3,
     "metadata": {},
     "output_type": "execute_result"
    }
   ],
   "source": [
    "bids_current_df = pd.read_csv(f\"{current_dir}bids_status.csv\")\n",
    "bids_T1_df = pd.read_csv(f\"{ver_T1_dir}ver_T1_bids_status.csv\")\n",
    "bids_sdMRI_df = pd.read_csv(f\"{ver_sdMRI_dir}ver_sdMRI_bids_status.csv\")\n",
    "bids_LP_df = pd.read_csv(f\"{ver_LP1_dir}ver_LP1_bids_status.csv\")\n",
    "\n",
    "current_participants = set(bids_current_df[\"participant_id\"].values)\n",
    "sdMRI_participants = set(bids_sdMRI_df[\"participant_id\"].values)\n",
    "T1_participants = set(bids_T1_df[\"participant_id\"].values)\n",
    "LP_participants = set(bids_LP_df[\"participant_id\"].values)\n",
    "\n",
    "print(f\"current: {len(current_participants)}\\n\"\n",
    "        f\"sdMRI: {len(sdMRI_participants)}\\n\"\n",
    "        f\"T1: {len(T1_participants)}\\n\"\n",
    "        f\"LP: {len(LP_participants)}\")\n",
    "        \n",
    "bids_current_df.head()"
   ]
  },
  {
   "cell_type": "markdown",
   "metadata": {},
   "source": [
    "### Get session-modality count"
   ]
  },
  {
   "cell_type": "code",
   "execution_count": 4,
   "metadata": {},
   "outputs": [],
   "source": [
    "def get_session_counts(df,modalities):\n",
    "    ses_id_list = np.sort(df[\"session_id\"].unique())\n",
    "    print(ses_id_list)\n",
    "    for ses_id in ses_id_list:\n",
    "        count_list = []\n",
    "        for modality in modalities:\n",
    "            n_participants = len(df[(df[\"session_id\"]==ses_id) & (df[modality] > 0)])\n",
    "            count_list.append((modality,n_participants))\n",
    "        print(f\"session: {ses_id}, {count_list}\")"
   ]
  },
  {
   "cell_type": "code",
   "execution_count": 5,
   "metadata": {},
   "outputs": [
    {
     "name": "stdout",
     "output_type": "stream",
     "text": [
      "[ 0  1  5  7  9 11 21 30 90 91]\n",
      "session: 0, [('anat', 6), ('dwi', 4)]\n",
      "session: 1, [('anat', 977), ('dwi', 473)]\n",
      "session: 5, [('anat', 248), ('dwi', 247)]\n",
      "session: 7, [('anat', 244), ('dwi', 247)]\n",
      "session: 9, [('anat', 2), ('dwi', 2)]\n",
      "session: 11, [('anat', 160), ('dwi', 205)]\n",
      "session: 21, [('anat', 10), ('dwi', 10)]\n",
      "session: 30, [('anat', 1), ('dwi', 1)]\n",
      "session: 90, [('anat', 7), ('dwi', 6)]\n",
      "session: 91, [('anat', 1), ('dwi', 1)]\n"
     ]
    }
   ],
   "source": [
    "modalities = [\"anat\",\"dwi\"]\n",
    "get_session_counts(bids_current_df,modalities)"
   ]
  },
  {
   "cell_type": "code",
   "execution_count": 6,
   "metadata": {},
   "outputs": [
    {
     "name": "stdout",
     "output_type": "stream",
     "text": [
      "[ 0  1  5  7  9 11 21 30 90 91]\n",
      "session: 0, [('anat', 6), ('dwi', 0)]\n",
      "session: 1, [('anat', 974), ('dwi', 0)]\n",
      "session: 5, [('anat', 248), ('dwi', 0)]\n",
      "session: 7, [('anat', 244), ('dwi', 0)]\n",
      "session: 9, [('anat', 2), ('dwi', 0)]\n",
      "session: 11, [('anat', 160), ('dwi', 0)]\n",
      "session: 21, [('anat', 10), ('dwi', 0)]\n",
      "session: 30, [('anat', 1), ('dwi', 0)]\n",
      "session: 90, [('anat', 7), ('dwi', 0)]\n",
      "session: 91, [('anat', 1), ('dwi', 0)]\n"
     ]
    }
   ],
   "source": [
    "get_session_counts(bids_T1_df,modalities)"
   ]
  },
  {
   "cell_type": "markdown",
   "metadata": {},
   "source": [
    "### Identify additional participants to be copied into current\n",
    "    - First from ver_T1\n",
    "    - Second from ver_LP"
   ]
  },
  {
   "cell_type": "code",
   "execution_count": 9,
   "metadata": {},
   "outputs": [
    {
     "name": "stdout",
     "output_type": "stream",
     "text": [
      "Number of new participants to be added: 21\n"
     ]
    }
   ],
   "source": [
    "participants_to_add = LP_participants - current_participants\n",
    "print(f\"Number of new participants to be added: {len(participants_to_add)}\")\n",
    "df = pd.DataFrame()\n",
    "df[\"participant_id\"] = list(participants_to_add)\n",
    "# df.to_csv(f\"{proc_status_dir}/LP_participants_to_add_into_current.csv\", index=None)"
   ]
  },
  {
   "cell_type": "markdown",
   "metadata": {},
   "source": [
    "#### Update current participants.tsv"
   ]
  },
  {
   "cell_type": "code",
   "execution_count": 10,
   "metadata": {},
   "outputs": [
    {
     "name": "stdout",
     "output_type": "stream",
     "text": [
      "n_current: 1121, n_T1: 21\n",
      "n_add: 21, n_updated: 1142\n",
      "after dropping duplicates n_updated: 1131\n"
     ]
    }
   ],
   "source": [
    "updated_participant_tsv = f\"{current_dir}/updated_participants.tsv\"\n",
    "\n",
    "current_participants_df = pd.read_csv(f\"{current_dir}/participants.tsv\",sep=\"\\t\")\n",
    "LP_participants_df = pd.read_csv(f\"{ver_LP1_dir}/participants.tsv\",sep=\"\\t\")\n",
    "\n",
    "LP_participants_df_to_add_df = LP_participants_df[LP_participants_df[\"participant_id\"].isin(participants_to_add)]\n",
    "\n",
    "print(f\"n_current: {len(current_participants_df)}, n_T1: {len(LP_participants_df_to_add_df)}\")\n",
    "\n",
    "current_participants_df = current_participants_df.append(LP_participants_df_to_add_df)\n",
    "print(f\"n_add: {len(LP_participants_df_to_add_df)}, n_updated: {len(current_participants_df)}\")\n",
    "\n",
    "# Drop duplicates (if any)\n",
    "current_participants_df = current_participants_df.drop_duplicates(\"participant_id\", keep=\"first\")\n",
    "print(f\"after dropping duplicates n_updated: {len(current_participants_df)}\")\n",
    "\n",
    "# Save participant.tsv\n",
    "# current_participants_df.to_csv(updated_participant_tsv, index=None, sep=\"\\t\")"
   ]
  },
  {
   "cell_type": "markdown",
   "metadata": {},
   "source": [
    "### Identify additional sessions to be copied into current"
   ]
  }
 ],
 "metadata": {
  "interpreter": {
   "hash": "999c495fe9dc36b558f9181c52eb411f8d79bcfd8fb93141da57ede7d0ce5d9c"
  },
  "kernelspec": {
   "display_name": "Python 3.7.0 ('green_compute')",
   "language": "python",
   "name": "python3"
  },
  "language_info": {
   "codemirror_mode": {
    "name": "ipython",
    "version": 3
   },
   "file_extension": ".py",
   "mimetype": "text/x-python",
   "name": "python",
   "nbconvert_exporter": "python",
   "pygments_lexer": "ipython3",
   "version": "3.7.0"
  },
  "orig_nbformat": 4
 },
 "nbformat": 4,
 "nbformat_minor": 2
}
