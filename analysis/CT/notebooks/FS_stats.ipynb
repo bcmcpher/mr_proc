{
 "cells": [
  {
   "cell_type": "markdown",
   "metadata": {},
   "source": [
    "## Code to analyze FS output\n",
    "\n",
    "1. DKT CT distributions \n",
    "2. ASEG vol distribution\n",
    "3. Surface plots"
   ]
  },
  {
   "cell_type": "code",
   "execution_count": 1,
   "metadata": {},
   "outputs": [
    {
     "name": "stderr",
     "output_type": "stream",
     "text": [
      "/home/nikhil/projects/green_comp_neuro/green_compute/lib/python3.7/site-packages/nilearn/datasets/__init__.py:89: FutureWarning: Fetchers from the nilearn.datasets module will be updated in version 0.9 to return python strings instead of bytes and Pandas dataframes instead of Numpy arrays.\n",
      "  \"Numpy arrays.\", FutureWarning)\n"
     ]
    }
   ],
   "source": [
    "import pandas as pd\n",
    "import numpy as np\n",
    "import scipy.stats\n",
    "import matplotlib.pyplot as plt\n",
    "import seaborn as sns\n",
    "import numpy as np\n",
    "import nibabel as nib\n",
    "from nilearn import datasets, surface, plotting\n"
   ]
  },
  {
   "cell_type": "code",
   "execution_count": 2,
   "metadata": {},
   "outputs": [],
   "source": [
    "data_dir = \"/home/nikhil/projects/Parkinsons/qpn/\"\n",
    "\n",
    "session = \"ses-01\"\n",
    "FS_dir = f\"{data_dir}/derivatives/freesurfer/v6.0.1/\"\n",
    "FS_surf_dir = f\"{FS_dir}/surfmaps/{session}/\"\n",
    "FS_DKT_dir = f\"{FS_dir}/freesurfer-agg/{session}/\"\n",
    "\n",
    "DKT_csv = f\"{FS_DKT_dir}/DKTatlas_average_thickness.csv\"\n",
    "\n",
    "ASEG_csv = f\"{FS_DKT_dir}/aseg_subcortical_volumes.csv\"\n",
    "\n",
    "tabular_dir = f\"{data_dir}/tabular/\"\n",
    "\n",
    "current_release = \"release_Nov2022\"\n",
    "\n",
    "figs_dir = \"../figs/\"\n",
    "\n",
    "# Current mr_proc manifest\n",
    "current_mr_proc_manifest_csv = f\"{tabular_dir}{current_release}/mr_proc_manifest.csv\"\n",
    "\n",
    "# UKB and FS fields map\n",
    "ukbb_dir = \"/home/nikhil/projects/brain_changes/data/ukbb/\"\n",
    "# DKT fields and labels\n",
    "ukbb_dkt_ct_fields = f\"{ukbb_dir}/region_field_ids/UKBB_DKT_CT_Fields.csv\"\n",
    "# ASEG fields and labels\n",
    "ukbb_aseg_vol_fields = f\"{ukbb_dir}/region_field_ids/UKBB_ASEG_vol_Fields.csv\"\n"
   ]
  },
  {
   "cell_type": "markdown",
   "metadata": {},
   "source": [
    "### Colormaps"
   ]
  },
  {
   "cell_type": "code",
   "execution_count": 3,
   "metadata": {},
   "outputs": [
    {
     "data": {
      "image/png": "[encoded data removed]",
      "text/plain": [
       "<Figure size 144x72 with 1 Axes>"
      ]
     },
     "metadata": {
      "needs_background": "light"
     },
     "output_type": "display_data"
    }
   ],
   "source": [
    "from enum import Enum\n",
    "class my_colors(Enum):\n",
    "    CONTROL = \"#636363\"\n",
    "    PD = \"#1c9099\"\n",
    "    \n",
    "color_list = [my_colors.PD.value, my_colors.CONTROL.value,]\n",
    "palette = sns.color_palette(palette=color_list) #sns.husl_palette()\n",
    "\n",
    "sns.palplot(palette)"
   ]
  },
  {
   "cell_type": "markdown",
   "metadata": {},
   "source": [
    "### Demographic data"
   ]
  },
  {
   "cell_type": "code",
   "execution_count": 4,
   "metadata": {},
   "outputs": [
    {
     "ename": "NameError",
     "evalue": "name 'df' is not defined",
     "output_type": "error",
     "traceback": [
      "\u001b[0;31m---------------------------------------------------------------------------\u001b[0m",
      "\u001b[0;31mNameError\u001b[0m                                 Traceback (most recent call last)",
      "\u001b[0;32m/tmp/ipykernel_25952/1634650327.py\u001b[0m in \u001b[0;36m<module>\u001b[0;34m\u001b[0m\n\u001b[1;32m      2\u001b[0m \u001b[0;34m\u001b[0m\u001b[0m\n\u001b[1;32m      3\u001b[0m \u001b[0mdemographics_df\u001b[0m \u001b[0;34m=\u001b[0m \u001b[0mpd\u001b[0m\u001b[0;34m.\u001b[0m\u001b[0mread_csv\u001b[0m\u001b[0;34m(\u001b[0m\u001b[0mcurrent_mr_proc_manifest_csv\u001b[0m\u001b[0;34m)\u001b[0m\u001b[0;34m[\u001b[0m\u001b[0mdemo_cols\u001b[0m\u001b[0;34m]\u001b[0m\u001b[0;34m\u001b[0m\u001b[0m\n\u001b[0;32m----> 4\u001b[0;31m \u001b[0mdemographics_df\u001b[0m\u001b[0;34m[\u001b[0m\u001b[0;34m\"age\"\u001b[0m\u001b[0;34m]\u001b[0m \u001b[0;34m=\u001b[0m \u001b[0;34m(\u001b[0m\u001b[0mpd\u001b[0m\u001b[0;34m.\u001b[0m\u001b[0mto_datetime\u001b[0m\u001b[0;34m(\u001b[0m\u001b[0mdf\u001b[0m\u001b[0;34m[\u001b[0m\u001b[0;34m\"visit_01\"\u001b[0m\u001b[0;34m]\u001b[0m\u001b[0;34m)\u001b[0m \u001b[0;34m-\u001b[0m \u001b[0mpd\u001b[0m\u001b[0;34m.\u001b[0m\u001b[0mto_datetime\u001b[0m\u001b[0;34m(\u001b[0m\u001b[0mdf\u001b[0m\u001b[0;34m[\u001b[0m\u001b[0;34m\"dob\"\u001b[0m\u001b[0;34m]\u001b[0m\u001b[0;34m)\u001b[0m\u001b[0;34m)\u001b[0m\u001b[0;34m/\u001b[0m \u001b[0mnp\u001b[0m\u001b[0;34m.\u001b[0m\u001b[0mtimedelta64\u001b[0m\u001b[0;34m(\u001b[0m\u001b[0;36m1\u001b[0m\u001b[0;34m,\u001b[0m \u001b[0;34m'Y'\u001b[0m\u001b[0;34m)\u001b[0m\u001b[0;34m\u001b[0m\u001b[0m\n\u001b[0m\u001b[1;32m      5\u001b[0m \u001b[0;34m\u001b[0m\u001b[0m\n\u001b[1;32m      6\u001b[0m \u001b[0mprint\u001b[0m\u001b[0;34m(\u001b[0m\u001b[0;34mf\"n_demographics_subs: {len(demographics_df)}\"\u001b[0m\u001b[0;34m)\u001b[0m\u001b[0;34m\u001b[0m\u001b[0m\n",
      "\u001b[0;31mNameError\u001b[0m: name 'df' is not defined"
     ]
    }
   ],
   "source": [
    "demo_cols = [\"bids_id\",\"sex\",\"dob\",\"group\",\"visit_01\"]\n",
    "\n",
    "demographics_df = pd.read_csv(current_mr_proc_manifest_csv)[demo_cols]\n",
    "demographics_df[\"age\"] = (pd.to_datetime(demographics_df[\"visit_01\"]) - pd.to_datetime(demographics_df[\"dob\"]))/ np.timedelta64(1, 'Y')\n",
    "\n",
    "print(f\"n_demographics_subs: {len(demographics_df)}\")\n",
    "demographics_df.head()"
   ]
  },
  {
   "cell_type": "markdown",
   "metadata": {},
   "source": [
    "### UKB - DKT - ASEG fields and names"
   ]
  },
  {
   "cell_type": "code",
   "execution_count": null,
   "metadata": {},
   "outputs": [],
   "source": [
    "### DKT metadata\n",
    "DKT_fields_df = pd.read_csv(ukbb_dkt_ct_fields)\n",
    "DKT_fields_df[\"hemi_roi\"] = DKT_fields_df[\"hemi\"] + \"_\" + DKT_fields_df[\"roi\"]\n",
    "\n",
    "DKT_field_roi_dict = dict(zip(DKT_fields_df[\"Field ID\"].values.astype(\"str\"),DKT_fields_df[\"hemi_roi\"].values))\n",
    "\n",
    "lh_DKT_fields = list(DKT_fields_df[DKT_fields_df[\"hemi\"]==\"lh\"][\"Field ID\"].values.astype(\"str\"))\n",
    "rh_DKT_fields = list(DKT_fields_df[DKT_fields_df[\"hemi\"]==\"rh\"][\"Field ID\"].values.astype(\"str\"))\n",
    "rois = list(DKT_fields_df[DKT_fields_df[\"hemi\"]==\"rh\"][\"roi\"])\n",
    "\n",
    "# hemi specific dict\n",
    "lh_DKT_field_roi_dict = dict(zip(lh_DKT_fields,rois))\n",
    "rh_DKT_field_roi_dict = dict(zip(rh_DKT_fields,rois))\n",
    "\n",
    "\n",
    "### ASEG metadata\n",
    "ASEG_fields_df = pd.read_csv(ukbb_aseg_vol_fields)\n",
    "\n",
    "ASEG_fields_sorted = list(ASEG_fields_df.sort_values([\"hemi\",\"roi\"])[\"Field ID\"].astype(str).values)\n",
    "\n",
    "lh_ASEG_fields = list(ASEG_fields_df[ASEG_fields_df[\"hemi\"]==\"Left-\"][\"Field ID\"].values.astype(\"str\"))\n",
    "rh_ASEG_fields = list(ASEG_fields_df[ASEG_fields_df[\"hemi\"]==\"Right-\"][\"Field ID\"].values.astype(\"str\"))\n",
    "global_ASEG_fields = list(ASEG_fields_df[ASEG_fields_df[\"hemi\"].isna()][\"Field ID\"].values.astype(\"str\"))\n",
    "hemi_rois = list(ASEG_fields_df[ASEG_fields_df[\"hemi\"]==\"Left-\"][\"roi\"])\n",
    "global_rois = list(ASEG_fields_df[ASEG_fields_df[\"hemi\"].isna()][\"roi\"])\n",
    "\n",
    "# hemi specific dict\n",
    "lh_ASEG_field_roi_dict = dict(zip(lh_ASEG_fields,hemi_rois))\n",
    "rh_ASEG_field_roi_dict = dict(zip(rh_ASEG_fields,hemi_rois))\n",
    "global_ASEG_field_roi_dict = dict(zip(global_ASEG_fields,global_rois))\n",
    "ASEG_fields_df.head()"
   ]
  },
  {
   "cell_type": "markdown",
   "metadata": {},
   "source": [
    "### Read DKT data"
   ]
  },
  {
   "cell_type": "code",
   "execution_count": null,
   "metadata": {},
   "outputs": [],
   "source": [
    "CT_DKT_df = pd.read_csv(DKT_csv)\n",
    "CT_DKT_df = CT_DKT_df.drop(columns=[\"Unnamed: 0\"])\n",
    "CT_DKT_df = CT_DKT_df.rename(columns={\"subject_id\":\"bids_id\"})\n",
    "\n",
    "bids_ids = list(CT_DKT_df[\"bids_id\"])\n",
    "print(f\"n_bids: {len(bids_ids)}\")\n",
    "\n",
    "CT_DKT_df = pd.merge(CT_DKT_df,demographics_df,on=\"bids_id\",how=\"left\")\n",
    "CT_DKT_df.head()\n",
    "\n",
    "CT_DKT_df.head()"
   ]
  },
  {
   "cell_type": "markdown",
   "metadata": {},
   "source": [
    "### Filter demographics based on available BIDS data"
   ]
  },
  {
   "cell_type": "code",
   "execution_count": null,
   "metadata": {},
   "outputs": [],
   "source": [
    "demographics_df = demographics_df[demographics_df[\"bids_id\"].isin(bids_ids)]\n",
    "demographics_df.groupby([\"group\"])[\"age\"].std()"
   ]
  },
  {
   "cell_type": "markdown",
   "metadata": {},
   "source": [
    "### Split DKT data into left and right hemisphere"
   ]
  },
  {
   "cell_type": "code",
   "execution_count": null,
   "metadata": {},
   "outputs": [],
   "source": [
    "lh_CT_DKT_df = CT_DKT_df[lh_DKT_fields + demo_cols].copy()\n",
    "lh_CT_DKT_df[\"hemi\"] = \"lh\"\n",
    "rh_CT_DKT_df = CT_DKT_df[rh_DKT_fields + demo_cols].copy()\n",
    "rh_CT_DKT_df[\"hemi\"] = \"rh\"\n",
    "\n",
    "lh_CT_DKT_df = lh_CT_DKT_df.rename(columns=lh_DKT_field_roi_dict)\n",
    "rh_CT_DKT_df = rh_CT_DKT_df.rename(columns=rh_DKT_field_roi_dict)\n",
    "\n",
    "CT_DKT_df = pd.concat([lh_CT_DKT_df,rh_CT_DKT_df], axis=0)\n",
    "\n",
    "CT_DKT_df.head()"
   ]
  },
  {
   "cell_type": "markdown",
   "metadata": {},
   "source": [
    "### Plot DKT"
   ]
  },
  {
   "cell_type": "code",
   "execution_count": null,
   "metadata": {},
   "outputs": [],
   "source": [
    "save_fig = False\n",
    "\n",
    "CT_DKT_df_melt = CT_DKT_df.melt(\n",
    "    id_vars=demo_cols + [\"hemi\"],\n",
    "    var_name=\"ROI\", \n",
    "    value_name=\"CT\")\n",
    "\n",
    "plot_df = CT_DKT_df_melt.copy()\n",
    "plot_df[\"ROI\"] = plot_df[\"ROI\"].astype(str)\n",
    "\n",
    "sns.set(font_scale=3)\n",
    "with sns.axes_style(\"whitegrid\"):\n",
    "    g = sns.catplot(y=\"ROI\",x=\"CT\", hue=\"group\", col=\"hemi\",kind=\"box\",palette=palette, data=plot_df, aspect=0.5, height=20)\n",
    "    # g.tick_params(axis='x', rotation=90, labelsize=14)\n",
    "\n",
    "if save_fig:\n",
    "    g.savefig(f\"{figs_dir}/DKT.png\")"
   ]
  },
  {
   "cell_type": "markdown",
   "metadata": {},
   "source": [
    "### Volumetric measures"
   ]
  },
  {
   "cell_type": "code",
   "execution_count": null,
   "metadata": {},
   "outputs": [],
   "source": [
    "vol_ASEG_df = pd.read_csv(ASEG_csv)\n",
    "vol_ASEG_df = vol_ASEG_df.drop(columns=[\"Unnamed: 0\"])\n",
    "vol_ASEG_df = vol_ASEG_df.rename(columns={\"subject_id\":\"bids_id\"})\n",
    "\n",
    "bids_ids = list(vol_ASEG_df[\"bids_id\"])\n",
    "print(f\"n_bids: {len(bids_ids)}\")\n",
    "\n",
    "# Subset fields because UKB has more fields than freesurfer enlists\n",
    "lh_ASEG_fields = list(set(lh_ASEG_fields) & set(vol_ASEG_df.columns))\n",
    "rh_ASEG_fields = list(set(rh_ASEG_fields) & set(vol_ASEG_df.columns))\n",
    "global_ASEG_fields = list(set(global_ASEG_fields) & set(vol_ASEG_df.columns))\n",
    "\n",
    "# Merge with demographics info\n",
    "vol_ASEG_df = pd.merge(vol_ASEG_df,demographics_df[demo_cols],on=\"bids_id\",how=\"left\")\n",
    "\n",
    "vol_ASEG_df.head()"
   ]
  },
  {
   "cell_type": "markdown",
   "metadata": {},
   "source": [
    "### Split DKT data into left and right hemisphere"
   ]
  },
  {
   "cell_type": "code",
   "execution_count": null,
   "metadata": {},
   "outputs": [],
   "source": [
    "lh_vol_ASEG_df = vol_ASEG_df[lh_ASEG_fields + demo_cols].copy()\n",
    "lh_vol_ASEG_df[\"hemi\"] = \"lh\"\n",
    "rh_vol_ASEG_df = vol_ASEG_df[rh_ASEG_fields + demo_cols].copy()\n",
    "rh_vol_ASEG_df[\"hemi\"] = \"rh\"\n",
    "global_vol_ASEG_df = vol_ASEG_df[global_ASEG_fields + demo_cols].copy()\n",
    "global_vol_ASEG_df[\"hemi\"] = \"global\"\n",
    "\n",
    "lh_vol_ASEG_df = lh_vol_ASEG_df.rename(columns=lh_ASEG_field_roi_dict)\n",
    "rh_vol_ASEG_df = rh_vol_ASEG_df.rename(columns=rh_ASEG_field_roi_dict)\n",
    "global_vol_ASEG_df = global_vol_ASEG_df.rename(columns=global_ASEG_field_roi_dict)\n",
    "\n",
    "vol_ASEG_df = pd.concat([lh_vol_ASEG_df,rh_vol_ASEG_df], axis=0)\n",
    "\n",
    "vol_ASEG_df.head()"
   ]
  },
  {
   "cell_type": "markdown",
   "metadata": {},
   "source": [
    "### Plot ASEG\n",
    "- hemi \n",
    "- global"
   ]
  },
  {
   "cell_type": "code",
   "execution_count": null,
   "metadata": {},
   "outputs": [],
   "source": [
    "save_fig = False\n",
    "\n",
    "vol_ASEG_df_melt = vol_ASEG_df.melt(\n",
    "    id_vars=demo_cols + [\"hemi\"],\n",
    "    var_name=\"ROI\", \n",
    "    value_name=\"volume\",\n",
    ")\n",
    "\n",
    "plot_df = vol_ASEG_df_melt.copy()\n",
    "plot_df[\"ROI\"] = plot_df[\"ROI\"].astype(str)\n",
    "hemi_roi_list = ['Pallidum', 'Thalamus-Proper', 'Putamen',  'Amygdala', 'Caudate', 'Hippocampus', 'Accumbens-area', \n",
    "                'Cerebellum-Cortex','Cerebellum-White-Matter','VentralDC', 'Lateral-Ventricle','Inf-Lat-Vent']\n",
    "\n",
    "sns.set(font_scale=4)\n",
    "with sns.axes_style(\"whitegrid\"):\n",
    "    g = sns.catplot(y=\"volume\",x=\"hemi\", hue=\"group\", col=\"ROI\",kind=\"box\", col_wrap=6, col_order=hemi_roi_list,\n",
    "    palette=palette, data=plot_df, aspect=1, height=10, sharey=False)\n",
    "    # g.tick_params(axis='x', rotation=90, labelsize=14)\n",
    "\n",
    "if save_fig:\n",
    "    g.savefig(f\"{figs_dir}/ASEG_hemi.png\")"
   ]
  },
  {
   "cell_type": "code",
   "execution_count": null,
   "metadata": {},
   "outputs": [],
   "source": [
    "save_fig = False\n",
    "\n",
    "global_vol_ASEG_df_melt = global_vol_ASEG_df.melt(\n",
    "    id_vars=demo_cols + [\"hemi\"],\n",
    "    var_name=\"ROI\", \n",
    "    value_name=\"volume\",\n",
    ")\n",
    "\n",
    "plot_df = global_vol_ASEG_df_melt.copy()\n",
    "\n",
    "global_roi_list = [\"EstimatedTotalIntraCranial\", \"SupraTentorial\", \"TotalGray\", \"SubCortGray\", \n",
    "                    \"CSF\",\"Brain-Stem\",\"3rd-Ventricle\",\"4th-Ventricle\"]\n",
    "plot_df = plot_df[plot_df[\"ROI\"].isin(global_roi_list)]\n",
    "\n",
    "sns.set(font_scale=4)\n",
    "with sns.axes_style(\"whitegrid\"):\n",
    "    g = sns.catplot(y=\"volume\",x=\"hemi\", hue=\"group\", col=\"ROI\",kind=\"box\", col_wrap=4, col_order=global_roi_list,\n",
    "    palette=palette, data=plot_df, aspect=1, height=10, sharey=False)\n",
    "\n",
    "if save_fig:\n",
    "    g.savefig(f\"{figs_dir}/ASEG_global.png\")"
   ]
  },
  {
   "cell_type": "code",
   "execution_count": null,
   "metadata": {},
   "outputs": [],
   "source": [
    "g.savefig(f\"{figs_dir}/ASEG_global.png\")"
   ]
  },
  {
   "cell_type": "markdown",
   "metadata": {},
   "source": [
    "### Surface maps"
   ]
  },
  {
   "cell_type": "code",
   "execution_count": null,
   "metadata": {},
   "outputs": [],
   "source": [
    "fsaverage = datasets.fetch_surf_fsaverage(\"fsaverage\")\n",
    "cmap = \"Spectral\" #\"cubehelix\"\n",
    "view = 'medial'\n",
    "sns.set(font_scale=2)"
   ]
  },
  {
   "cell_type": "code",
   "execution_count": null,
   "metadata": {},
   "outputs": [],
   "source": [
    "fwhm_list = [5] #[0,5,10]\n",
    "DX_groups = [\"CTRL\",\"PD\"] \n",
    "hemi_list = [\"lh\", \"rh\"]\n",
    "\n",
    "for fwhm in fwhm_list:\n",
    "    for i, group in enumerate(DX_groups):\n",
    "        for j, hemi in enumerate(hemi_list):\n",
    "            CT_img = nib.load(f\"{FS_surf_dir}{hemi}_surf_concat_{group}_{fwhm}mm.mgh\")\n",
    "            avg_CT = np.squeeze(np.mean(CT_img.get_fdata(),axis=3))\n",
    "\n",
    "            stat_map = avg_CT\n",
    "\n",
    "            if hemi == \"lh\":\n",
    "                hemisphere = \"left\"\n",
    "            else:\n",
    "                hemisphere = \"right\"\n",
    "\n",
    "            bg_map=fsaverage[f\"sulc_{hemisphere}\"]\n",
    "            fs_surf = fsaverage[f'pial_{hemisphere}']\n",
    "            \n",
    "            fig = plt.figure(figsize=(10, 6))\n",
    "            fig_file = f\"{figs_dir}/surf/{view}/{hemi}_surf_CT_{group}_{fwhm}mm.png\"\n",
    "            \n",
    "            with sns.axes_style(\"white\"):\n",
    "                plotting.plot_surf_stat_map(\n",
    "                    fs_surf, stat_map, hemi=hemisphere, view=view,  title=f'{hemi} hemisphere', bg_map=bg_map,\n",
    "                    colorbar=True, threshold=1, vmax=4.3, output_file=fig_file, cmap=cmap, figure=fig\n",
    "            )\n",
    "\n",
    "#bg_map=bg_map,vmax=4.5,"
   ]
  },
  {
   "cell_type": "markdown",
   "metadata": {},
   "source": [
    "### CTRL - PD"
   ]
  },
  {
   "cell_type": "code",
   "execution_count": null,
   "metadata": {},
   "outputs": [],
   "source": [
    "fwhm = 5\n",
    "cmap = \"Spectral\"\n",
    "hemi_list = [\"lh\", \"rh\"]\n",
    "\n",
    "for j, hemi in enumerate(hemi_list):\n",
    "    CT_img_CTRL = nib.load(f\"{FS_surf_dir}{hemi}_surf_concat_CTRL_{fwhm}mm.mgh\")\n",
    "    avg_CT_CTRL = np.squeeze(np.mean(CT_img_CTRL.get_fdata(),axis=3))\n",
    "\n",
    "    CT_img_PD = nib.load(f\"{FS_surf_dir}{hemi}_surf_concat_PD_{fwhm}mm.mgh\")\n",
    "    avg_CT_PD = np.squeeze(np.mean(CT_img_PD.get_fdata(),axis=3))\n",
    "\n",
    "    stat_map = avg_CT_CTRL - avg_CT_PD\n",
    "\n",
    "    if hemi == \"lh\":\n",
    "        hemisphere = \"left\"\n",
    "    else:\n",
    "        hemisphere = \"right\"\n",
    "\n",
    "    bg_map=fsaverage[f\"sulc_{hemisphere}\"]\n",
    "    fs_surf = fsaverage[f'pial_{hemisphere}']\n",
    "    \n",
    "    fig = plt.figure(figsize=(10, 6))\n",
    "    fig_file = f\"{figs_dir}/surf/{view}/{hemi}_surf_CT_diff_{fwhm}mm.png\"\n",
    "    \n",
    "    with sns.axes_style(\"white\"):\n",
    "        plotting.plot_surf_stat_map(\n",
    "            fs_surf, stat_map, hemi=hemisphere, view=view,  title=f'{hemi} hemisphere', bg_map=bg_map,\n",
    "            colorbar=True, threshold=0.15, output_file=fig_file, cmap=cmap, figure=fig\n",
    "        )"
   ]
  }
 ],
 "metadata": {
  "interpreter": {
   "hash": "999c495fe9dc36b558f9181c52eb411f8d79bcfd8fb93141da57ede7d0ce5d9c"
  },
  "kernelspec": {
   "display_name": "Python 3.7.0 ('green_compute')",
   "language": "python",
   "name": "python3"
  },
  "language_info": {
   "codemirror_mode": {
    "name": "ipython",
    "version": 3
   },
   "file_extension": ".py",
   "mimetype": "text/x-python",
   "name": "python",
   "nbconvert_exporter": "python",
   "pygments_lexer": "ipython3",
   "version": "3.7.0"
  },
  "orig_nbformat": 4
 },
 "nbformat": 4,
 "nbformat_minor": 2
}
